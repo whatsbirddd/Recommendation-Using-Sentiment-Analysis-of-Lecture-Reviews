{
 "cells": [
  {
   "cell_type": "code",
   "execution_count": 1,
   "metadata": {},
   "outputs": [
    {
     "name": "stdout",
     "output_type": "stream",
     "text": [
      "Requirement already satisfied: selenium in /Users/saeran/opt/anaconda3/lib/python3.8/site-packages (3.141.0)\r\n",
      "Requirement already satisfied: urllib3 in /Users/saeran/opt/anaconda3/lib/python3.8/site-packages (from selenium) (1.25.11)\r\n"
     ]
    }
   ],
   "source": [
    "!pip install selenium"
   ]
  },
  {
   "cell_type": "code",
   "execution_count": 6,
   "metadata": {},
   "outputs": [],
   "source": [
    "#자동 로그인\n",
    "import selenium\n",
    "from selenium import webdriver as wd\n",
    "import time\n",
    "import pandas as pd\n",
    "import random\n",
    "\n",
    "# 세종대 에브리타임 자동 로그인\n",
    "\n",
    "options = wd.ChromeOptions()\n",
    "options.add_argument(\"no-sandbox\")\n",
    "options.add_argument(\"--disable-dev-shm-usage\")\n",
    "options.add_argument(\"user-agent={Mozilla/5.0 (X11; Linux x86_64) AppleWebKit/537.36 (KHTML, like Gecko) Chrome/85.0.4183.121 Safari/537.36}\")\n",
    "\n",
    "driver = wd.Chrome(executable_path='/usr/local/bin/chromedriver', options = options)\n",
    "driver.maximize_window()\n",
    "\n",
    "\n",
    "baseURL = 'https://sejong.everytime.kr'\n",
    "\n",
    "rand_value = random.uniform(2,4)\n",
    "time.sleep(rand_value)\n",
    "driver.get(baseURL)\n",
    "\n",
    "rand_value = random.uniform(2,4)\n",
    "time.sleep(rand_value)\n",
    "driver.find_element_by_css_selector('#account > a:nth-child(1)').click()\n",
    "\n",
    "driver.find_element_by_name('userid').send_keys('gimsg12')\n",
    "driver.find_element_by_name('password').send_keys('data')\n",
    "\n",
    "rand_value = random.uniform(2,4)\n",
    "time.sleep(rand_value)\n",
    "driver.find_element_by_xpath('//*[@class=\"submit\"]/input').click()"
   ]
  },
  {
   "cell_type": "code",
   "execution_count": 71,
   "metadata": {},
   "outputs": [
    {
     "data": {
      "text/plain": [
       "697"
      ]
     },
     "execution_count": 71,
     "metadata": {},
     "output_type": "execute_result"
    }
   ],
   "source": [
    "lecture = pd.read_csv(\"data/lecture_data.csv\")\n",
    "lecture.head()\n",
    "len(lecture)"
   ]
  },
  {
   "cell_type": "code",
   "execution_count": 73,
   "metadata": {},
   "outputs": [
    {
     "name": "stdout",
     "output_type": "stream",
     "text": [
      "공업수학1 김동회\n",
      "공업수학1 박준영\n",
      "공업수학1 박문규\n",
      "공업수학2 김정\n",
      "공업수학2 박상식\n",
      "일반물리학및실험1 김정\n",
      "일반물리학및실험1 문희종\n",
      "일반물리학및실험1 서순애\n",
      "일반물리학및실험1 김용선\n",
      "일반물리학및실험1 김근수\n",
      "일반물리학및실험1 이남경\n",
      "일반물리학및실험1 김광희\n",
      "일반물리학및실험1 노화용\n",
      "일반물리학및실험1 김현수\n",
      "일반물리학및실험1 최희진\n",
      "일반생물학 윤혜숙\n",
      "일반화학 권경중\n",
      "일반화학 박창진\n",
      "일반화학 양창원\n",
      "일반화학 임하나\n",
      "일반화학 윤천\n",
      "일반화학 윤미용\n",
      "일반화학 박은이\n",
      "일반화학및실험1 이경희\n",
      "일반화학및실험1 이원목\n",
      "일반화학및실험1 채영기\n",
      "일반화학및실험1 윤천\n",
      "일반화학및실험1 원종옥\n",
      "기초미적분학 이지은\n",
      "기초미적분학 김주명\n",
      "기초미적분학 변태창\n",
      "기초미적분학 안일주\n",
      "기초미적분학 심은화\n",
      "기초미적분학 정은경\n",
      "일변수미적분학 차영준\n",
      "일변수미적분학 이희원\n",
      "일변수미적분학 문동호\n",
      "일변수미적분학 변태창\n",
      "일변수미적분학 우형수\n",
      "일변수미적분학 이지은\n",
      "일변수미적분학 이언경\n",
      "일변수미적분학 윤진희\n",
      "일변수미적분학 김주명\n",
      "일변수미적분학 유호석\n",
      "일변수미적분학 정은경\n",
      "일변수미적분학 안일주\n",
      "다변수미적분학 오장헌\n",
      "English Writing 1 이숙영\n",
      "English Writing 1 Mark Daniel Mechem\n",
      "English Writing 1 Young In Chang\n",
      "English Writing 2 John P. Bernabei\n",
      "English Writing 2 Mark Daniel Mechem\n",
      "English Writing 2 Maria Choe\n",
      "English Writing 2 Joanne Taeyoung Kim\n",
      "English Reading Practice 1 John P. Bernabei\n",
      "English Reading Practice 1 Todd Tate\n",
      "English Reading Practice 1 David M Hindman\n",
      "English Reading Practice 1 Jordan Jamie Green\n",
      "English Reading Practice 1 Gordon Maccoy\n",
      "English Reading Practice 1 Maria Choe\n",
      "English Reading Practice 1 Joanne Taeyoung Kim\n",
      "English Reading Practice 1 Shion Kang\n",
      "English Reading Practice 1 Young In Chang\n",
      "English Reading Practice 1 Mark Daniel Mechem\n",
      "English Reading Practice 1 Joanne Kim-Yamada\n",
      "English Reading Practice 1 Julian Kibum Chung\n",
      "English Reading Practice 1 박선영\n",
      "English Reading Practice 1 옥성수\n",
      "English Reading Practice 1 유기윤\n",
      "한국현대사의이해 정성원\n",
      "세계사:인간과문명 공수진\n",
      "세계사:인간과문명 문종현\n",
      "세계사:인간과문명 박효근\n",
      "English Reading Practice 2 John P. Bernabei\n",
      "교육사회 김형준\n",
      "교육학개론 구리나\n",
      "교육과정 윤순경\n",
      "교직실무 곽창신\n",
      "조직리더십 \n",
      "SM-소셜미디어마케팅 김지헌\n",
      "ES-웨어러블컴퓨터디자인 김숙진, 김민지\n",
      "GMSW-IT기술영작문(기초) 진실로, 조길자\n",
      "GMSW-NLE영상편집 고선정, 임종수\n",
      "GMSW-디지털매체광고제작 이귀옥\n",
      "GMSW-글로벌시장과일본문화콘텐츠 박지혜\n",
      "GMSW-미디어네트워크분석 유승현\n",
      "스토리텔링기획론 김진영\n",
      "문화홍보기획론 김보름\n",
      "BA 웹스크레이핑빅데이터분석 김덕은\n",
      "BA 빅데이터비즈니스모델 최진호\n",
      "영상디자인스튜디오1 최서영\n",
      "창업기업의성장과재무 강원\n",
      "린스타트업 오혜미\n",
      "손해보험 이순재\n",
      "먹고즐기는자연 진중현\n",
      "푸른바다생물이야기 김민선\n",
      "곤충의새로운가치 윤은영\n"
     ]
    }
   ],
   "source": [
    "import re\n",
    "from bs4 import BeautifulSoup\n",
    "\n",
    "#강의 -> 강의평가\n",
    "lecture_review_list=[]\n",
    "url_id_list = lecture.url_id.astype(str) \n",
    "\n",
    "for url_id in url_id_list[600:]:\n",
    "    #강의 페이지로 넘어가기\n",
    "    url = \"https://everytime.kr/lecture/view/\"+url_id\n",
    "    rand_value = random.uniform(2,5)\n",
    "    time.sleep(rand_value)\n",
    "    driver.get(url)\n",
    "    \n",
    "    #하나의 강의 평가 페이지 bs로 데이터 수집\n",
    "    time.sleep(3)\n",
    "    html = driver.page_source\n",
    "    soup = BeautifulSoup(html,'html.parser') #정적텍스트 분석을 사용하는 BS이 selenium보다 빠름 -> 페이지접근에는 동적 수집, 데이터 수집은 정적수집적\n",
    "    \n",
    "    lecture_name = soup.select_one(\"#container > div.side.head > h2\").text\n",
    "    professor_name = soup.select_one(\"#container > div.side.head > p:nth-of-type(1) > span\").text\n",
    "    review_list = soup.select(\"article\")\n",
    "    print(lecture_name, professor_name)\n",
    "\n",
    "    #강의리뷰 \n",
    "    index = 0\n",
    "    for review in review_list:\n",
    "        if review.select_one('div.pay') == None: #강의평가가 아니라 중간,기말고사 족보\n",
    "            rate = review.select_one('p.rate > span > span')[\"style\"] #str사용해야 re사용가능\n",
    "            rate = float(rate[-5:-2]) #숫자만 (리스트형태로 return되는데 [0]하면 오류뜸...)\n",
    "            semester = review.select_one('p.info > span.semester').text\n",
    "            semester = int(semester[0:2])\n",
    "            text = review.select_one('p.text').text\n",
    "            like = review.select_one(\"p.info > span.posvote\")\n",
    "            if like == None:\n",
    "                like = 0\n",
    "            else:\n",
    "                like = int(like.text)\n",
    "        \n",
    "            lecture_review_list.append({\n",
    "                \"url_id\"         : url_id,\n",
    "                \"index\"          : index,\n",
    "                \"lecture_name\"   : lecture_name,\n",
    "                \"professor_name\" : professor_name,\n",
    "                \"rate\"           : rate,\n",
    "                \"semester\"       : semester,\n",
    "                \"like\"           : like,\n",
    "                 \"text\"          : text\n",
    "               }\n",
    "            )\n",
    "            index+=1"
   ]
  },
  {
   "cell_type": "code",
   "execution_count": 74,
   "metadata": {},
   "outputs": [
    {
     "data": {
      "text/plain": [
       "1271"
      ]
     },
     "execution_count": 74,
     "metadata": {},
     "output_type": "execute_result"
    }
   ],
   "source": [
    "review_data6=pd.DataFrame(lecture_review_list)\n",
    "review_data6.to_csv('data/review_data6.csv',index=False,encoding='utf-8-sig') #한글 인코딩 깨질때\n",
    "len(review_data6)"
   ]
  },
  {
   "cell_type": "code",
   "execution_count": 72,
   "metadata": {},
   "outputs": [
    {
     "data": {
      "text/plain": [
       "3009"
      ]
     },
     "execution_count": 72,
     "metadata": {},
     "output_type": "execute_result"
    }
   ],
   "source": [
    "review_data5=pd.DataFrame(lecture_review_list)\n",
    "review_data5.to_csv('data/review_data5.csv',index=False,encoding='utf-8-sig') #한글 인코딩 깨질때\n",
    "len(review_data5)"
   ]
  },
  {
   "cell_type": "code",
   "execution_count": 69,
   "metadata": {},
   "outputs": [
    {
     "data": {
      "text/plain": [
       "1296"
      ]
     },
     "execution_count": 69,
     "metadata": {},
     "output_type": "execute_result"
    }
   ],
   "source": [
    "review_data4=pd.DataFrame(lecture_review_list)\n",
    "review_data4.to_csv('data/review_data4.csv',index=False,encoding='utf-8-sig') #한글 인코딩 깨질때\n",
    "len(review_data4)"
   ]
  },
  {
   "cell_type": "code",
   "execution_count": 67,
   "metadata": {},
   "outputs": [
    {
     "data": {
      "text/plain": [
       "383"
      ]
     },
     "execution_count": 67,
     "metadata": {},
     "output_type": "execute_result"
    }
   ],
   "source": [
    "review_data3=pd.DataFrame(lecture_review_list)\n",
    "review_data3.to_csv('data/review_data3.csv',index=False,encoding='utf-8-sig') #한글 인코딩 깨질때\n",
    "len(review_data3)"
   ]
  },
  {
   "cell_type": "code",
   "execution_count": 62,
   "metadata": {
    "scrolled": true
   },
   "outputs": [
    {
     "data": {
      "text/plain": [
       "481"
      ]
     },
     "execution_count": 62,
     "metadata": {},
     "output_type": "execute_result"
    }
   ],
   "source": [
    "review_data2=pd.DataFrame(lecture_review_list)\n",
    "review_data2.to_csv('data/review_data2.csv',index=False,encoding='utf-8-sig') #한글 인코딩 깨질때\n",
    "len(review_data2)"
   ]
  },
  {
   "cell_type": "code",
   "execution_count": 59,
   "metadata": {},
   "outputs": [
    {
     "data": {
      "text/plain": [
       "213"
      ]
     },
     "execution_count": 59,
     "metadata": {},
     "output_type": "execute_result"
    }
   ],
   "source": [
    "review_data = pd.DataFrame(lecture_review_list)\n",
    "review_data.to_csv('data/review_data.csv',index=False,encoding='utf-8-sig') #한글 인코딩 깨질때\n",
    "len(review_data)"
   ]
  },
  {
   "cell_type": "code",
   "execution_count": 75,
   "metadata": {},
   "outputs": [],
   "source": [
    "review_data_all = pd.concat([review_data,review_data2,review_data3,review_data4,review_data5,review_data6],ignore_index=True)"
   ]
  },
  {
   "cell_type": "code",
   "execution_count": 78,
   "metadata": {},
   "outputs": [],
   "source": [
    "review_data_all.to_csv('data/review_datal_all.csv',index=False,encoding='utf-8-sig')"
   ]
  },
  {
   "cell_type": "code",
   "execution_count": 80,
   "metadata": {},
   "outputs": [
    {
     "data": {
      "text/plain": [
       "6653"
      ]
     },
     "execution_count": 80,
     "metadata": {},
     "output_type": "execute_result"
    }
   ],
   "source": [
    "len(review_data_all)"
   ]
  },
  {
   "cell_type": "code",
   "execution_count": null,
   "metadata": {},
   "outputs": [],
   "source": []
  }
 ],
 "metadata": {
  "kernelspec": {
   "display_name": "Python 3",
   "language": "python",
   "name": "python3"
  },
  "language_info": {
   "codemirror_mode": {
    "name": "ipython",
    "version": 3
   },
   "file_extension": ".py",
   "mimetype": "text/x-python",
   "name": "python",
   "nbconvert_exporter": "python",
   "pygments_lexer": "ipython3",
   "version": "3.8.5"
  }
 },
 "nbformat": 4,
 "nbformat_minor": 4
}

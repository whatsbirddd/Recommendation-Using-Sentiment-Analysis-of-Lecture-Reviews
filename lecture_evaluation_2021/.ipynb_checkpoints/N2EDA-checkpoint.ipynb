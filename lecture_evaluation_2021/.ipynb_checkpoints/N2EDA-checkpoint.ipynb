{
 "cells": [
  {
   "cell_type": "code",
   "execution_count": 1,
   "metadata": {},
   "outputs": [],
   "source": [
    "import os\n",
    "import sys\n",
    "import re\n",
    "\n",
    "import numpy as np\n",
    "import pandas as pd\n",
    "\n",
    "import json\n",
    "\n",
    "import matplotlib.pyplot as plt\n",
    "%matplotlib inline\n",
    "import seaborn as sns\n",
    "sns.set(style='white', context='notebook', palette='deep')"
   ]
  },
  {
   "cell_type": "code",
   "execution_count": 2,
   "metadata": {},
   "outputs": [
    {
     "data": {
      "text/html": [
       "<div>\n",
       "<style scoped>\n",
       "    .dataframe tbody tr th:only-of-type {\n",
       "        vertical-align: middle;\n",
       "    }\n",
       "\n",
       "    .dataframe tbody tr th {\n",
       "        vertical-align: top;\n",
       "    }\n",
       "\n",
       "    .dataframe thead th {\n",
       "        text-align: right;\n",
       "    }\n",
       "</style>\n",
       "<table border=\"1\" class=\"dataframe\">\n",
       "  <thead>\n",
       "    <tr style=\"text-align: right;\">\n",
       "      <th></th>\n",
       "      <th>url_id</th>\n",
       "      <th>index</th>\n",
       "      <th>lecture_name</th>\n",
       "      <th>professor_name</th>\n",
       "      <th>rate</th>\n",
       "      <th>semester</th>\n",
       "      <th>like</th>\n",
       "      <th>text</th>\n",
       "    </tr>\n",
       "  </thead>\n",
       "  <tbody>\n",
       "    <tr>\n",
       "      <th>0</th>\n",
       "      <td>535020</td>\n",
       "      <td>0</td>\n",
       "      <td>법학입문</td>\n",
       "      <td>이재교</td>\n",
       "      <td>100</td>\n",
       "      <td>20</td>\n",
       "      <td>0</td>\n",
       "      <td>판례평석 잘하면 성적잘 주시는것 같음. 중간 개망치고 기말도 틀린 문제 몇 개 있었...</td>\n",
       "    </tr>\n",
       "    <tr>\n",
       "      <th>1</th>\n",
       "      <td>535020</td>\n",
       "      <td>1</td>\n",
       "      <td>법학입문</td>\n",
       "      <td>이재교</td>\n",
       "      <td>80</td>\n",
       "      <td>20</td>\n",
       "      <td>0</td>\n",
       "      <td>과제들 되게 귀찮고 많다 시험은 말빨 좋으면 된다 난 시험은 망쳤지만 과제는 열심히...</td>\n",
       "    </tr>\n",
       "    <tr>\n",
       "      <th>2</th>\n",
       "      <td>535020</td>\n",
       "      <td>2</td>\n",
       "      <td>법학입문</td>\n",
       "      <td>이재교</td>\n",
       "      <td>80</td>\n",
       "      <td>20</td>\n",
       "      <td>0</td>\n",
       "      <td>수업은 ppt 띄워놓으시고 하시는데 보통 교안에 없는 다른 관련 사례를 중심으로 많...</td>\n",
       "    </tr>\n",
       "    <tr>\n",
       "      <th>3</th>\n",
       "      <td>535020</td>\n",
       "      <td>3</td>\n",
       "      <td>법학입문</td>\n",
       "      <td>이재교</td>\n",
       "      <td>100</td>\n",
       "      <td>20</td>\n",
       "      <td>0</td>\n",
       "      <td>교재에 없는 내용 많이 얘기해주시고, 말씀하신 내용에서 시험문제 내셔서 교재 그렇게...</td>\n",
       "    </tr>\n",
       "    <tr>\n",
       "      <th>4</th>\n",
       "      <td>535020</td>\n",
       "      <td>4</td>\n",
       "      <td>법학입문</td>\n",
       "      <td>이재교</td>\n",
       "      <td>100</td>\n",
       "      <td>20</td>\n",
       "      <td>0</td>\n",
       "      <td>사이버강의라 괜찮았지만 과제는 꽤 많았어요 시험은 수업 잘 들으면 잘 나옴</td>\n",
       "    </tr>\n",
       "  </tbody>\n",
       "</table>\n",
       "</div>"
      ],
      "text/plain": [
       "   url_id  index lecture_name professor_name  rate  semester  like  \\\n",
       "0  535020      0         법학입문            이재교   100        20     0   \n",
       "1  535020      1         법학입문            이재교    80        20     0   \n",
       "2  535020      2         법학입문            이재교    80        20     0   \n",
       "3  535020      3         법학입문            이재교   100        20     0   \n",
       "4  535020      4         법학입문            이재교   100        20     0   \n",
       "\n",
       "                                                text  \n",
       "0  판례평석 잘하면 성적잘 주시는것 같음. 중간 개망치고 기말도 틀린 문제 몇 개 있었...  \n",
       "1  과제들 되게 귀찮고 많다 시험은 말빨 좋으면 된다 난 시험은 망쳤지만 과제는 열심히...  \n",
       "2  수업은 ppt 띄워놓으시고 하시는데 보통 교안에 없는 다른 관련 사례를 중심으로 많...  \n",
       "3  교재에 없는 내용 많이 얘기해주시고, 말씀하신 내용에서 시험문제 내셔서 교재 그렇게...  \n",
       "4          사이버강의라 괜찮았지만 과제는 꽤 많았어요 시험은 수업 잘 들으면 잘 나옴  "
      ]
     },
     "execution_count": 2,
     "metadata": {},
     "output_type": "execute_result"
    }
   ],
   "source": [
    "review = pd.read_csv(\"data/review_datal_all.csv\")\n",
    "review = pd.DataFrame(review)\n",
    "review.head()"
   ]
  },
  {
   "cell_type": "code",
   "execution_count": 4,
   "metadata": {},
   "outputs": [],
   "source": [
    "review20 = review[review[\"semester\"]>=20]"
   ]
  },
  {
   "cell_type": "code",
   "execution_count": 3,
   "metadata": {},
   "outputs": [
    {
     "data": {
      "text/plain": [
       "professor_name\n",
       "신하얀, 이태하    195\n",
       "이태하         162\n",
       "이유진         118\n",
       "문종현         106\n",
       "박효근          97\n",
       "하지영          95\n",
       "김우영          94\n",
       "정연철          90\n",
       "공수진          89\n",
       "이요섭          84\n",
       "dtype: int64"
      ]
     },
     "execution_count": 3,
     "metadata": {},
     "output_type": "execute_result"
    }
   ],
   "source": [
    "#교수님과 강의별로 강의리뷰 개수 :10개\n",
    "review_by_professor = review.groupby(review['professor_name']).size().sort_values(ascending=False)[:10]\n",
    "review_by_professor #헐 정연철교수님 개웃긴뎈ㅋㅋㅋㅋㅋ"
   ]
  },
  {
   "cell_type": "code",
   "execution_count": 4,
   "metadata": {},
   "outputs": [
    {
     "data": {
      "text/plain": [
       "professor_name  lecture_name \n",
       "신하얀, 이태하        창업과기업가정신1        195\n",
       "이태하             수요집현강좌           131\n",
       "문종현             세계사:인간과문명        106\n",
       "김우영             문제해결을위한글쓰기와발표     94\n",
       "공수진             세계사:인간과문명         89\n",
       "                                ... \n",
       "오덕재, 김형욱, 김수연   두뇌로알아보는우리의삶        1\n",
       "임준석             신입생세미나             1\n",
       "곽태기             모델드로잉              1\n",
       "임종수             방송기획               1\n",
       "황용식             취업전략및사회진출          1\n",
       "Length: 692, dtype: int64"
      ]
     },
     "execution_count": 4,
     "metadata": {},
     "output_type": "execute_result"
    }
   ],
   "source": [
    "#(교수님, 강의)리뷰 개수많은 순\n",
    "prof = review['professor_name']\n",
    "lec = review['lecture_name']\n",
    "review_by_professor_and_lecture = review.groupby([prof,lec]).size().sort_values(ascending=False)[:30]\n",
    "maybe_major_lec = review.groupby([prof,lec]).size().sort_values(ascending=False)\n",
    "maybe_major_lec\n",
    "\n",
    "#필수교양과목에 대한 데이터가 많음\n",
    "#전공관련 과목은 확실히 적음 :많아야 20개내외?\n",
    "#교수님 리뷰개수가 좋아서 많은건지 별로여서 많은건지?"
   ]
  },
  {
   "cell_type": "code",
   "execution_count": null,
   "metadata": {},
   "outputs": [],
   "source": [
    "#전체 강의 리뷰 평균 개수 - 문장개수\n"
   ]
  },
  {
   "cell_type": "code",
   "execution_count": null,
   "metadata": {},
   "outputs": [],
   "source": [
    "#전공 리뷰 평균 개수-문장개수"
   ]
  },
  {
   "cell_type": "code",
   "execution_count": null,
   "metadata": {},
   "outputs": [],
   "source": [
    "#교양 리뷰 평균 개수-문장개수"
   ]
  },
  {
   "cell_type": "code",
   "execution_count": 5,
   "metadata": {},
   "outputs": [],
   "source": [
    "#전체 단어 개수\n",
    "test = list(review.text)\n",
    "checked_doc = []\n",
    "for doc in test:\n",
    "    check = re.sub(\"[^ㄱ-ㅎㅏ-ㅣ가-힣 ]\", \"\", doc) #한글\n",
    "    checked_doc.append(check) \n",
    "    \n",
    "path = 'data/stopwords-ko.txt'\n",
    "with open(path,encoding=\"utf-8\") as f:\n",
    "    stopwords =[word for word in f]\n",
    "    \n",
    "tokenized_doc=[]\n",
    "word_doc = []\n",
    "for doc in checked_doc:\n",
    "        token = [word for word in doc.split() if word not in stopwords and len(word) > 1] \n",
    "        tokenized_doc.append(token)"
   ]
  },
  {
   "cell_type": "code",
   "execution_count": 6,
   "metadata": {},
   "outputs": [
    {
     "name": "stdout",
     "output_type": "stream",
     "text": [
      "총 단어 개수 160563\n"
     ]
    }
   ],
   "source": [
    "word_count =0\n",
    "for words in tokenized_doc:\n",
    "    word_count+=len(words)\n",
    "print(\"총 단어 개수\", word_count)"
   ]
  },
  {
   "cell_type": "code",
   "execution_count": null,
   "metadata": {},
   "outputs": [],
   "source": []
  },
  {
   "cell_type": "code",
   "execution_count": null,
   "metadata": {},
   "outputs": [],
   "source": []
  }
 ],
 "metadata": {
  "kernelspec": {
   "display_name": "Python 3",
   "language": "python",
   "name": "python3"
  },
  "language_info": {
   "codemirror_mode": {
    "name": "ipython",
    "version": 3
   },
   "file_extension": ".py",
   "mimetype": "text/x-python",
   "name": "python",
   "nbconvert_exporter": "python",
   "pygments_lexer": "ipython3",
   "version": "3.8.5"
  }
 },
 "nbformat": 4,
 "nbformat_minor": 4
}

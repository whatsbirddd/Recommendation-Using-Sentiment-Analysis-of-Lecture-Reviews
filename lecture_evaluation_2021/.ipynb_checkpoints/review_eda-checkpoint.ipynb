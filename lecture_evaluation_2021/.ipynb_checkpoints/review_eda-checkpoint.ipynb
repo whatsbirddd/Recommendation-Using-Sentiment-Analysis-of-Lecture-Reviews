{
 "cells": [
  {
   "cell_type": "code",
   "execution_count": 1,
   "metadata": {},
   "outputs": [],
   "source": [
    "import os\n",
    "import sys\n",
    "import re\n",
    "\n",
    "import numpy as np\n",
    "import pandas as pd\n",
    "\n",
    "import json\n",
    "\n",
    "import matplotlib.pyplot as plt\n",
    "%matplotlib inline\n",
    "import seaborn as sns\n",
    "sns.set(style='white', context='notebook', palette='deep')"
   ]
  },
  {
   "cell_type": "code",
   "execution_count": 2,
   "metadata": {
    "scrolled": true
   },
   "outputs": [
    {
     "data": {
      "text/html": [
       "<div>\n",
       "<style scoped>\n",
       "    .dataframe tbody tr th:only-of-type {\n",
       "        vertical-align: middle;\n",
       "    }\n",
       "\n",
       "    .dataframe tbody tr th {\n",
       "        vertical-align: top;\n",
       "    }\n",
       "\n",
       "    .dataframe thead th {\n",
       "        text-align: right;\n",
       "    }\n",
       "</style>\n",
       "<table border=\"1\" class=\"dataframe\">\n",
       "  <thead>\n",
       "    <tr style=\"text-align: right;\">\n",
       "      <th></th>\n",
       "      <th>url_id</th>\n",
       "      <th>index</th>\n",
       "      <th>lecture_name</th>\n",
       "      <th>professor_name</th>\n",
       "      <th>rate</th>\n",
       "      <th>semester</th>\n",
       "      <th>like</th>\n",
       "      <th>text</th>\n",
       "    </tr>\n",
       "  </thead>\n",
       "  <tbody>\n",
       "    <tr>\n",
       "      <th>0</th>\n",
       "      <td>535020</td>\n",
       "      <td>0</td>\n",
       "      <td>법학입문</td>\n",
       "      <td>이재교</td>\n",
       "      <td>100</td>\n",
       "      <td>20</td>\n",
       "      <td>0</td>\n",
       "      <td>판례평석 잘하면 성적잘 주시는것 같음. 중간 개망치고 기말도 틀린 문제 몇 개 있었...</td>\n",
       "    </tr>\n",
       "    <tr>\n",
       "      <th>1</th>\n",
       "      <td>535020</td>\n",
       "      <td>1</td>\n",
       "      <td>법학입문</td>\n",
       "      <td>이재교</td>\n",
       "      <td>80</td>\n",
       "      <td>20</td>\n",
       "      <td>0</td>\n",
       "      <td>과제들 되게 귀찮고 많다 시험은 말빨 좋으면 된다 난 시험은 망쳤지만 과제는 열심히...</td>\n",
       "    </tr>\n",
       "    <tr>\n",
       "      <th>2</th>\n",
       "      <td>535020</td>\n",
       "      <td>2</td>\n",
       "      <td>법학입문</td>\n",
       "      <td>이재교</td>\n",
       "      <td>80</td>\n",
       "      <td>20</td>\n",
       "      <td>0</td>\n",
       "      <td>수업은 ppt 띄워놓으시고 하시는데 보통 교안에 없는 다른 관련 사례를 중심으로 많...</td>\n",
       "    </tr>\n",
       "    <tr>\n",
       "      <th>3</th>\n",
       "      <td>535020</td>\n",
       "      <td>3</td>\n",
       "      <td>법학입문</td>\n",
       "      <td>이재교</td>\n",
       "      <td>100</td>\n",
       "      <td>20</td>\n",
       "      <td>0</td>\n",
       "      <td>교재에 없는 내용 많이 얘기해주시고, 말씀하신 내용에서 시험문제 내셔서 교재 그렇게...</td>\n",
       "    </tr>\n",
       "    <tr>\n",
       "      <th>4</th>\n",
       "      <td>535020</td>\n",
       "      <td>4</td>\n",
       "      <td>법학입문</td>\n",
       "      <td>이재교</td>\n",
       "      <td>100</td>\n",
       "      <td>20</td>\n",
       "      <td>0</td>\n",
       "      <td>사이버강의라 괜찮았지만 과제는 꽤 많았어요 시험은 수업 잘 들으면 잘 나옴</td>\n",
       "    </tr>\n",
       "  </tbody>\n",
       "</table>\n",
       "</div>"
      ],
      "text/plain": [
       "   url_id  index lecture_name professor_name  rate  semester  like  \\\n",
       "0  535020      0         법학입문            이재교   100        20     0   \n",
       "1  535020      1         법학입문            이재교    80        20     0   \n",
       "2  535020      2         법학입문            이재교    80        20     0   \n",
       "3  535020      3         법학입문            이재교   100        20     0   \n",
       "4  535020      4         법학입문            이재교   100        20     0   \n",
       "\n",
       "                                                text  \n",
       "0  판례평석 잘하면 성적잘 주시는것 같음. 중간 개망치고 기말도 틀린 문제 몇 개 있었...  \n",
       "1  과제들 되게 귀찮고 많다 시험은 말빨 좋으면 된다 난 시험은 망쳤지만 과제는 열심히...  \n",
       "2  수업은 ppt 띄워놓으시고 하시는데 보통 교안에 없는 다른 관련 사례를 중심으로 많...  \n",
       "3  교재에 없는 내용 많이 얘기해주시고, 말씀하신 내용에서 시험문제 내셔서 교재 그렇게...  \n",
       "4          사이버강의라 괜찮았지만 과제는 꽤 많았어요 시험은 수업 잘 들으면 잘 나옴  "
      ]
     },
     "execution_count": 2,
     "metadata": {},
     "output_type": "execute_result"
    }
   ],
   "source": [
    "review = pd.read_csv(\"data/review_datal_all.csv\")\n",
    "review = pd.DataFrame(review)\n",
    "review.head()"
   ]
  },
  {
   "cell_type": "code",
   "execution_count": 11,
   "metadata": {},
   "outputs": [],
   "source": [
    "review20 = review[review[\"semester\"]>=20]"
   ]
  },
  {
   "cell_type": "code",
   "execution_count": 12,
   "metadata": {},
   "outputs": [
    {
     "data": {
      "text/plain": [
       "professor_name\n",
       "신하얀, 이태하              128\n",
       "이유진                    76\n",
       "이태하                    65\n",
       "황용식                    64\n",
       "하지영                    51\n",
       "정연철                    44\n",
       "이요섭                    42\n",
       "정성원                    42\n",
       "Julian Kibum Chung     38\n",
       "전보영                    37\n",
       "dtype: int64"
      ]
     },
     "execution_count": 12,
     "metadata": {},
     "output_type": "execute_result"
    }
   ],
   "source": [
    "#교수님과 강의별로 강의리뷰 개수 :10개\n",
    "review_by_professor = review20.groupby(review['professor_name']).size().sort_values(ascending=False)[:10]\n",
    "review_by_professor #헐 정연철교수님 개웃긴뎈ㅋㅋㅋㅋㅋ"
   ]
  },
  {
   "cell_type": "code",
   "execution_count": 13,
   "metadata": {},
   "outputs": [
    {
     "data": {
      "text/plain": [
       "professor_name      lecture_name                \n",
       "Joanne Kim-Yamada   English Reading Practice 1      8\n",
       "Mark Daniel Mechem  English Listening Practice 1    8\n",
       "고영대                 HTM 호스피탈리티스마트서비스                8\n",
       "Kyle F McCullagh    영어발음연습                          8\n",
       "Young In Chang      English Writing 1               8\n",
       "John P. Bernabei    English Writing 2               8\n",
       "Todd Tate           English Reading Practice 1      8\n",
       "Alberto Giacchini   비즈니스커뮤니케이션1                     8\n",
       "정영희                 영어학의세계                          8\n",
       "오승구                 경제학원론                           7\n",
       "김영래                 교육철학의이해                         7\n",
       "이학성                 자동제어                            7\n",
       "박황서                 유기화학                            7\n",
       "이성훈                 경영학원론                           7\n",
       "박상식                 공업수학2                           7\n",
       "심은화                 기초미적분학                          7\n",
       "최성신                 분석화학실험                          7\n",
       "계정권                 타이포그래피                          7\n",
       "이희원                 일변수미적분학                         7\n",
       "오장헌                 다변수미적분학                         7\n",
       "dtype: int64"
      ]
     },
     "execution_count": 13,
     "metadata": {},
     "output_type": "execute_result"
    }
   ],
   "source": [
    "prof = review['professor_name']\n",
    "lec = review['lecture_name']\n",
    "review_by_professor_and_lecture = review20.groupby([prof,lec]).size().sort_values(ascending=False)[:30]\n",
    "maybe_major_lec = review20.groupby([prof,lec]).size().sort_values(ascending=False)[100:120]\n",
    "maybe_major_lec\n",
    "\n",
    "#필수교양과목에 대한 데이터가 많음\n",
    "#전공관련 과목은 확실히 적음 :많아야 20개내외?\n",
    "#교수님 리뷰개수가 좋아서 많은건지 별로여서 많은건지?"
   ]
  },
  {
   "cell_type": "code",
   "execution_count": 14,
   "metadata": {},
   "outputs": [
    {
     "data": {
      "text/plain": [
       "professor_name\n",
       "김대종                           35.000000\n",
       "Mohammed H. Alsharif          34.545455\n",
       "계정권                           34.285714\n",
       "김용국                           34.000000\n",
       "노화용                           33.333333\n",
       "홍성욱                           32.000000\n",
       "주경희                           31.428571\n",
       "최성신                           31.111111\n",
       "이원준                           30.000000\n",
       "전유진                           30.000000\n",
       "이종혁                           26.666667\n",
       "한희섭                           20.000000\n",
       "Mamta AGIWAL                  20.000000\n",
       "김진성                           20.000000\n",
       "김종원                           20.000000\n",
       "채규현                           20.000000\n",
       "김이수                           20.000000\n",
       "이현주                           20.000000\n",
       "권순일                           20.000000\n",
       "Abolghasem Sadeghi-Niaraki    20.000000\n",
       "Name: rate, dtype: float64"
      ]
     },
     "execution_count": 14,
     "metadata": {},
     "output_type": "execute_result"
    }
   ],
   "source": [
    "#교수님별로 rate평균\n",
    "#강의 개수에따라서 rate파악필요할듯\n",
    "rate_mean = review20[\"rate\"].groupby(prof).mean().sort_values(ascending=False)[-20:]\n",
    "rate_mean #ㅋㅋㅋㅋㅋㅋㅋ거르자..."
   ]
  },
  {
   "cell_type": "code",
   "execution_count": 25,
   "metadata": {},
   "outputs": [
    {
     "data": {
      "text/html": [
       "<div>\n",
       "<style scoped>\n",
       "    .dataframe tbody tr th:only-of-type {\n",
       "        vertical-align: middle;\n",
       "    }\n",
       "\n",
       "    .dataframe tbody tr th {\n",
       "        vertical-align: top;\n",
       "    }\n",
       "\n",
       "    .dataframe thead th {\n",
       "        text-align: right;\n",
       "    }\n",
       "</style>\n",
       "<table border=\"1\" class=\"dataframe\">\n",
       "  <thead>\n",
       "    <tr style=\"text-align: right;\">\n",
       "      <th></th>\n",
       "      <th>url_id</th>\n",
       "      <th>index</th>\n",
       "      <th>lecture_name</th>\n",
       "      <th>professor_name</th>\n",
       "      <th>rate</th>\n",
       "      <th>semester</th>\n",
       "      <th>like</th>\n",
       "      <th>text</th>\n",
       "    </tr>\n",
       "  </thead>\n",
       "  <tbody>\n",
       "    <tr>\n",
       "      <th>5980</th>\n",
       "      <td>1788465</td>\n",
       "      <td>0</td>\n",
       "      <td>English Reading Practice 1</td>\n",
       "      <td>John P. Bernabei</td>\n",
       "      <td>100</td>\n",
       "      <td>20</td>\n",
       "      <td>0</td>\n",
       "      <td>퀴즈가 조금 있음. 수준은 쉬운 편이고 과제 꼬박꼬박 잘하고 시험 무난히 보고 모의...</td>\n",
       "    </tr>\n",
       "    <tr>\n",
       "      <th>5981</th>\n",
       "      <td>1788465</td>\n",
       "      <td>1</td>\n",
       "      <td>English Reading Practice 1</td>\n",
       "      <td>John P. Bernabei</td>\n",
       "      <td>100</td>\n",
       "      <td>20</td>\n",
       "      <td>0</td>\n",
       "      <td>과제 몇 번 있긴 한데 미리미리 공지해주시고 어려운 내용도 아니라서 부담은 없음. ...</td>\n",
       "    </tr>\n",
       "    <tr>\n",
       "      <th>5982</th>\n",
       "      <td>1788465</td>\n",
       "      <td>2</td>\n",
       "      <td>English Reading Practice 1</td>\n",
       "      <td>John P. Bernabei</td>\n",
       "      <td>100</td>\n",
       "      <td>20</td>\n",
       "      <td>0</td>\n",
       "      <td>교수님이 친절하시고 강아지도 귀여웠어요 수업 난이도도 높지 않습니다</td>\n",
       "    </tr>\n",
       "    <tr>\n",
       "      <th>5983</th>\n",
       "      <td>1788465</td>\n",
       "      <td>3</td>\n",
       "      <td>English Reading Practice 1</td>\n",
       "      <td>John P. Bernabei</td>\n",
       "      <td>100</td>\n",
       "      <td>20</td>\n",
       "      <td>0</td>\n",
       "      <td>코로나때 들었습니다. 교수님 너무귀여우시고 교수님 강아지도 가끔 등장하는데 수업이 ...</td>\n",
       "    </tr>\n",
       "    <tr>\n",
       "      <th>5984</th>\n",
       "      <td>1788465</td>\n",
       "      <td>4</td>\n",
       "      <td>English Reading Practice 1</td>\n",
       "      <td>John P. Bernabei</td>\n",
       "      <td>80</td>\n",
       "      <td>20</td>\n",
       "      <td>0</td>\n",
       "      <td>온라인 강의+영어라서 수업이 잘 전달되기 어려웠던 것 같다. 현강이었다면 더 얻어갈...</td>\n",
       "    </tr>\n",
       "  </tbody>\n",
       "</table>\n",
       "</div>"
      ],
      "text/plain": [
       "       url_id  index                lecture_name    professor_name  rate  \\\n",
       "5980  1788465      0  English Reading Practice 1  John P. Bernabei   100   \n",
       "5981  1788465      1  English Reading Practice 1  John P. Bernabei   100   \n",
       "5982  1788465      2  English Reading Practice 1  John P. Bernabei   100   \n",
       "5983  1788465      3  English Reading Practice 1  John P. Bernabei   100   \n",
       "5984  1788465      4  English Reading Practice 1  John P. Bernabei    80   \n",
       "\n",
       "      semester  like                                               text  \n",
       "5980        20     0  퀴즈가 조금 있음. 수준은 쉬운 편이고 과제 꼬박꼬박 잘하고 시험 무난히 보고 모의...  \n",
       "5981        20     0  과제 몇 번 있긴 한데 미리미리 공지해주시고 어려운 내용도 아니라서 부담은 없음. ...  \n",
       "5982        20     0              교수님이 친절하시고 강아지도 귀여웠어요 수업 난이도도 높지 않습니다  \n",
       "5983        20     0  코로나때 들었습니다. 교수님 너무귀여우시고 교수님 강아지도 가끔 등장하는데 수업이 ...  \n",
       "5984        20     0  온라인 강의+영어라서 수업이 잘 전달되기 어려웠던 것 같다. 현강이었다면 더 얻어갈...  "
      ]
     },
     "execution_count": 25,
     "metadata": {},
     "output_type": "execute_result"
    }
   ],
   "source": [
    "#elp\n",
    "testdata= review20[review20[\"lecture_name\"]==\"English Reading Practice 1\"]\n",
    "testdata.head()"
   ]
  },
  {
   "cell_type": "code",
   "execution_count": 5,
   "metadata": {},
   "outputs": [],
   "source": [
    "#교수님별로 하나의 문서?\n",
    "#교수님\n",
    "text = testdata[\"lecture_name\"]"
   ]
  },
  {
   "cell_type": "code",
   "execution_count": null,
   "metadata": {},
   "outputs": [],
   "source": []
  }
 ],
 "metadata": {
  "kernelspec": {
   "display_name": "Python 3",
   "language": "python",
   "name": "python3"
  },
  "language_info": {
   "codemirror_mode": {
    "name": "ipython",
    "version": 3
   },
   "file_extension": ".py",
   "mimetype": "text/x-python",
   "name": "python",
   "nbconvert_exporter": "python",
   "pygments_lexer": "ipython3",
   "version": "3.8.5"
  }
 },
 "nbformat": 4,
 "nbformat_minor": 4
}

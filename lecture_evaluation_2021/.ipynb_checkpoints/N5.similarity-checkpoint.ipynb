{
 "cells": [
  {
   "cell_type": "code",
   "execution_count": 132,
   "metadata": {},
   "outputs": [],
   "source": [
    "import pandas as pd"
   ]
  },
  {
   "cell_type": "code",
   "execution_count": 133,
   "metadata": {
    "scrolled": false
   },
   "outputs": [
    {
     "data": {
      "text/plain": [
       "6653"
      ]
     },
     "execution_count": 133,
     "metadata": {},
     "output_type": "execute_result"
    }
   ],
   "source": [
    "review = pd.read_csv(\"data/preprocessing.csv\")\n",
    "len(review)"
   ]
  },
  {
   "cell_type": "code",
   "execution_count": 134,
   "metadata": {},
   "outputs": [],
   "source": [
    "title = set(list(review['lecture_name']))\n",
    "title = sorted(list(title))"
   ]
  },
  {
   "cell_type": "code",
   "execution_count": 183,
   "metadata": {},
   "outputs": [],
   "source": [
    "#lecture review만들기\n",
    "lecture_review = {}\n",
    "for index, row in review.iterrows():\n",
    "    lecture_name = row['lecture_name']\n",
    "    corpus = row['corpus']\n",
    "    if type(corpus) == str :\n",
    "        if lecture_name in lecture_review.keys():\n",
    "                lecture_review[lecture_name] += corpus\n",
    "        else:\n",
    "            lecture_review[lecture_name] = corpus\n",
    "    else: #국어의미론 NAN값 존재\n",
    "        if lecture_name in lecture_review.keys():\n",
    "                lecture_review[lecture_name] += ''\n",
    "        else:\n",
    "            lecture_review[lecture_name] = ''\n",
    "lecture_review = sorted(lecture_review.items())\n",
    "data = [text[1] for text in lecture_review]"
   ]
  },
  {
   "cell_type": "code",
   "execution_count": 169,
   "metadata": {
    "scrolled": false
   },
   "outputs": [
    {
     "data": {
      "text/plain": [
       "450"
      ]
     },
     "execution_count": 169,
     "metadata": {},
     "output_type": "execute_result"
    }
   ],
   "source": [
    "len(data)"
   ]
  },
  {
   "cell_type": "code",
   "execution_count": 223,
   "metadata": {},
   "outputs": [
    {
     "data": {
      "text/plain": [
       "(450, 13219)"
      ]
     },
     "execution_count": 223,
     "metadata": {},
     "output_type": "execute_result"
    }
   ],
   "source": [
    "#유사도를 구하기 위한 수치벡터화(tfidf)\n",
    "#stopword\n",
    "from sklearn.feature_extraction.text import TfidfVectorizer\n",
    "tfidf = TfidfVectorizer()  \n",
    "# overview에 대해서 tf-idf 수행\n",
    "tfidf_matrix = tfidf.fit_transform(data)\n",
    "tfidf_matrix.shape"
   ]
  },
  {
   "cell_type": "code",
   "execution_count": 226,
   "metadata": {},
   "outputs": [],
   "source": [
    "#코사인 유사도\n",
    "from sklearn.metrics.pairwise import linear_kernel\n",
    "cosine_sim = linear_kernel(tfidf_matrix, tfidf_matrix)"
   ]
  },
  {
   "cell_type": "code",
   "execution_count": 227,
   "metadata": {},
   "outputs": [
    {
     "data": {
      "text/plain": [
       "array([[1.        , 0.16290163, 0.26465478, ..., 0.10071955, 0.13154822,\n",
       "        0.24498924],\n",
       "       [0.16290163, 1.        , 0.10437533, ..., 0.02888212, 0.07920931,\n",
       "        0.12069042],\n",
       "       [0.26465478, 0.10437533, 1.        , ..., 0.14610329, 0.12975637,\n",
       "        0.26225052],\n",
       "       ...,\n",
       "       [0.10071955, 0.02888212, 0.14610329, ..., 1.        , 0.09009742,\n",
       "        0.16073225],\n",
       "       [0.13154822, 0.07920931, 0.12975637, ..., 0.09009742, 1.        ,\n",
       "        0.27534769],\n",
       "       [0.24498924, 0.12069042, 0.26225052, ..., 0.16073225, 0.27534769,\n",
       "        1.        ]])"
      ]
     },
     "execution_count": 227,
     "metadata": {},
     "output_type": "execute_result"
    }
   ],
   "source": [
    "cosine_sim"
   ]
  },
  {
   "cell_type": "code",
   "execution_count": 228,
   "metadata": {},
   "outputs": [],
   "source": [
    "#유클리디안 유사도\n",
    "import numpy as np\n",
    "from sklearn.metrics.pairwise import euclidean_distances\n",
    "\n",
    "#정규화\n",
    "def l1_normalize(v): #tfidf로 구한 단어 빈도의 수치를 모두 더했을 때 1로 만들어주기\n",
    "    norm = np.sum(v)\n",
    "    return v/norm\n",
    "\n",
    "tfidf_norm_l1 = l1_normalize(tfidf_matrix)\n",
    "euclidean_distance = euclidean_distances(tfidf_norm_l1, tfidf_norm_l1)"
   ]
  },
  {
   "cell_type": "code",
   "execution_count": 229,
   "metadata": {},
   "outputs": [],
   "source": [
    "from sklearn.metrics.pairwise import manhattan_distances\n",
    "manhattan_distances=manhattan_distances(tfidf_norm_l1, tfidf_norm_l1)"
   ]
  },
  {
   "cell_type": "code",
   "execution_count": 230,
   "metadata": {},
   "outputs": [],
   "source": [
    "lecture_review = pd.DataFrame(lecture_review,columns=['lecture_name','corpus'])"
   ]
  },
  {
   "cell_type": "code",
   "execution_count": 231,
   "metadata": {},
   "outputs": [
    {
     "data": {
      "text/html": [
       "<div>\n",
       "<style scoped>\n",
       "    .dataframe tbody tr th:only-of-type {\n",
       "        vertical-align: middle;\n",
       "    }\n",
       "\n",
       "    .dataframe tbody tr th {\n",
       "        vertical-align: top;\n",
       "    }\n",
       "\n",
       "    .dataframe thead th {\n",
       "        text-align: right;\n",
       "    }\n",
       "</style>\n",
       "<table border=\"1\" class=\"dataframe\">\n",
       "  <thead>\n",
       "    <tr style=\"text-align: right;\">\n",
       "      <th></th>\n",
       "      <th>lecture_name</th>\n",
       "      <th>corpus</th>\n",
       "    </tr>\n",
       "  </thead>\n",
       "  <tbody>\n",
       "    <tr>\n",
       "      <th>0</th>\n",
       "      <td>2D디자인</td>\n",
       "      <td>과제 터무니없 이 많 것하다 매우 많 컨펌 열심히 하다 주심 포토샵 정도 만지다 수...</td>\n",
       "    </tr>\n",
       "    <tr>\n",
       "      <th>1</th>\n",
       "      <td>3D그래픽어플리케이션</td>\n",
       "      <td>배우다 가다 것 매우 많 교수 항상 학생 열리다 있다 질문 많이 하다 수 있다 학생...</td>\n",
       "    </tr>\n",
       "    <tr>\n",
       "      <th>2</th>\n",
       "      <td>3D디자인</td>\n",
       "      <td>코 로나 여 학점 잘 받다 다시 듣다 싶다 않다 수업 교양 학점 잘 받다 하다 넘기...</td>\n",
       "    </tr>\n",
       "    <tr>\n",
       "      <th>3</th>\n",
       "      <td>BA 빅데이터비즈니스모델</td>\n",
       "      <td>학생 호불 호 갈리다 수 있다 교수 하지만 학생 직접 탐구하다 생각하다 것 조금 보...</td>\n",
       "    </tr>\n",
       "    <tr>\n",
       "      <th>4</th>\n",
       "      <td>BA 웹스크레이핑빅데이터분석</td>\n",
       "      <td>솔직히 개인 제만 잘 하 학점 거 저먹다 수업 다만 교수 말 너무 하 느리 고 수업...</td>\n",
       "    </tr>\n",
       "    <tr>\n",
       "      <th>...</th>\n",
       "      <td>...</td>\n",
       "      <td>...</td>\n",
       "    </tr>\n",
       "    <tr>\n",
       "      <th>445</th>\n",
       "      <td>환경공학및실험</td>\n",
       "      <td>작년 수 강하다 그냥 갑자기 교수 생각나다 써 봄 전공 시 사 진짜 알다 것 많 분...</td>\n",
       "    </tr>\n",
       "    <tr>\n",
       "      <th>446</th>\n",
       "      <td>환경유체역학</td>\n",
       "      <td>진짜 수업 너무 잘 하 주다 중간 중간 웃음 포인트 너무 많 야구 광 학생 너무나 ...</td>\n",
       "    </tr>\n",
       "    <tr>\n",
       "      <th>447</th>\n",
       "      <td>환경화학</td>\n",
       "      <td>내용 어렵 교수 그냥 정석 그대로 거 같 시험 보다 여 하다 보다 오다 하다 하다 ...</td>\n",
       "    </tr>\n",
       "    <tr>\n",
       "      <th>448</th>\n",
       "      <td>회계감사</td>\n",
       "      <td>점수 굉장히 후하다 주다 학생 편의 많이 보다 주다교수 착 함 그다지 어렵 않다 잘...</td>\n",
       "    </tr>\n",
       "    <tr>\n",
       "      <th>449</th>\n",
       "      <td>회계원리2</td>\n",
       "      <td>과제 양 많 하다 애초 내용 맞다 틀 리 다 하다 수 없 내용 성의 많이 보다 거 ...</td>\n",
       "    </tr>\n",
       "  </tbody>\n",
       "</table>\n",
       "<p>450 rows × 2 columns</p>\n",
       "</div>"
      ],
      "text/plain": [
       "        lecture_name                                             corpus\n",
       "0              2D디자인  과제 터무니없 이 많 것하다 매우 많 컨펌 열심히 하다 주심 포토샵 정도 만지다 수...\n",
       "1        3D그래픽어플리케이션  배우다 가다 것 매우 많 교수 항상 학생 열리다 있다 질문 많이 하다 수 있다 학생...\n",
       "2              3D디자인  코 로나 여 학점 잘 받다 다시 듣다 싶다 않다 수업 교양 학점 잘 받다 하다 넘기...\n",
       "3      BA 빅데이터비즈니스모델  학생 호불 호 갈리다 수 있다 교수 하지만 학생 직접 탐구하다 생각하다 것 조금 보...\n",
       "4    BA 웹스크레이핑빅데이터분석  솔직히 개인 제만 잘 하 학점 거 저먹다 수업 다만 교수 말 너무 하 느리 고 수업...\n",
       "..               ...                                                ...\n",
       "445          환경공학및실험  작년 수 강하다 그냥 갑자기 교수 생각나다 써 봄 전공 시 사 진짜 알다 것 많 분...\n",
       "446           환경유체역학  진짜 수업 너무 잘 하 주다 중간 중간 웃음 포인트 너무 많 야구 광 학생 너무나 ...\n",
       "447             환경화학  내용 어렵 교수 그냥 정석 그대로 거 같 시험 보다 여 하다 보다 오다 하다 하다 ...\n",
       "448             회계감사  점수 굉장히 후하다 주다 학생 편의 많이 보다 주다교수 착 함 그다지 어렵 않다 잘...\n",
       "449            회계원리2  과제 양 많 하다 애초 내용 맞다 틀 리 다 하다 수 없 내용 성의 많이 보다 거 ...\n",
       "\n",
       "[450 rows x 2 columns]"
      ]
     },
     "execution_count": 231,
     "metadata": {},
     "output_type": "execute_result"
    }
   ],
   "source": [
    "lecture_review"
   ]
  },
  {
   "cell_type": "code",
   "execution_count": 234,
   "metadata": {},
   "outputs": [],
   "source": [
    "def recommendations_by_cosine(title,method=cosine_sim):\n",
    "    idx = indices[title] \n",
    "    scores = list(enumerate(method[idx])) #모든 강의와 유사도 구하기\n",
    "    scores = sorted(scores, key=lambda x:x[1],reverse=True) #유사도 정렬\n",
    "    scores = scores[1:6] #가장 유사한 강의 5개 \n",
    "    movie_indices = [i[0] for i in scores] #강의의 인덱스받기\n",
    "    \n",
    "    result_df = lecture_review.iloc[movie_indices].copy()\n",
    "    result_df['score'] = [i[1] for i in scores] #score추가\n",
    "    \n",
    "    del result_df['corpus']\n",
    "    \n",
    "    return result_df\n",
    "\n",
    "def recommendations_by_euclidean(title,method=euclidean_distance):    \n",
    "    idx = indices[title]\n",
    "    scores = list(enumerate(method[idx]))\n",
    "    scores=sorted(scores, key=lambda x:x[1],reverse=True)\n",
    "    scores = scores[1:6]\n",
    "    movie_indices = [i[0] for i in scores]\n",
    "    result_df = lecture_review.iloc[movie_indices].copy()\n",
    "    result_df['score'] = [i[1] for i in scores] #score추가\n",
    "    \n",
    "    del result_df['corpus']\n",
    "    \n",
    "    return result_df\n",
    "def recommendations_by_manhattan(title,method=manhattan_distances):\n",
    "    idx = indices[title]\n",
    "    scores = list(enumerate(method[idx]))\n",
    "    scores=sorted(scores, key=lambda x:x[1],reverse=True)\n",
    "    scores = scores[1:6]\n",
    "    movie_indices = [i[0] for i in scores]\n",
    "    result_df = lecture_review.iloc[movie_indices].copy()\n",
    "    result_df['score'] = [i[1] for i in scores] #score추가\n",
    "    \n",
    "    del result_df['corpus']\n",
    "    \n",
    "    return result_df\n",
    "\n",
    "def recommendations_by_zaccard(title):\n",
    "    idx = indices[title]\n",
    "    split_doc=[]\n",
    "    for doc in data:\n",
    "        split_doc.append(doc.split())\n",
    "        \n",
    "    rec_lec = []\n",
    "    for i in range(len(split_doc)):\n",
    "        a = len(set(split_doc[idx]) & set(split_doc[i]))\n",
    "        b = len(set(split_doc[idx]) | set(split_doc[i]))\n",
    "        rec_lec.append(a/b)\n",
    "    \n",
    "    scores = list(enumerate(rec_lec))\n",
    "    scores=sorted(scores, key=lambda x:x[1],reverse=True)\n",
    "    scores = scores[1:6]\n",
    "    movie_indices = [i[0] for i in scores]\n",
    "    result_df = lecture_review.iloc[movie_indices].copy()\n",
    "    result_df['score'] = [i[1] for i in scores] #score추가\n",
    "    \n",
    "    del result_df['corpus']\n",
    "    \n",
    "    return result_df"
   ]
  },
  {
   "cell_type": "code",
   "execution_count": 237,
   "metadata": {
    "scrolled": true
   },
   "outputs": [
    {
     "name": "stdout",
     "output_type": "stream",
     "text": [
      "-------------cosine--------------\n",
      "    lecture_name     score\n",
      "377    창업과기업가정신1  0.819835\n",
      "375    진로설정과자기계발  0.443978\n",
      "376       진로오딧세이  0.422940\n",
      "383          채플1  0.395743\n",
      "208      서양고전강독3  0.387857\n",
      "-------------euclidean--------------\n",
      "              lecture_name     score\n",
      "151                  모델드로잉  0.000367\n",
      "259                 역사철학강의  0.000366\n",
      "345                   전자회로  0.000366\n",
      "88                    교직실무  0.000366\n",
      "5    Capstone디자인(산학협력프로젝트)  0.000365\n",
      "-------------manhattan--------------\n",
      "      lecture_name     score\n",
      "404           통신이론  0.006966\n",
      "157  문제해결을위한글쓰기와발표  0.006913\n",
      "442        확률및랜덤변수  0.006767\n",
      "34     MATLAB프로그래밍  0.006758\n",
      "317         일반생물학1  0.006739\n",
      "------------zaccard--------------\n",
      "          lecture_name     score\n",
      "377          창업과기업가정신1  0.254989\n",
      "56               경제학원론  0.204493\n",
      "52               경영학원론  0.199846\n",
      "123             데이터베이스  0.196041\n",
      "16   English Writing 2  0.195526\n"
     ]
    }
   ],
   "source": [
    "print('-------------cosine--------------')\n",
    "print(recommendations_by_cosine('수요집현강좌'))\n",
    "print('-------------euclidean--------------') #차원이 높아서 성능 떨어짐\n",
    "print(recommendations_by_euclidean('수요집현강좌'))\n",
    "print('-------------manhattan--------------')\n",
    "print(recommendations_by_manhattan('수요집현강좌'))\n",
    "print('------------zaccard--------------') \n",
    "print(recommendations_by_zaccard('수요집현강좌'))"
   ]
  },
  {
   "cell_type": "code",
   "execution_count": null,
   "metadata": {},
   "outputs": [],
   "source": []
  }
 ],
 "metadata": {
  "kernelspec": {
   "display_name": "Python 3",
   "language": "python",
   "name": "python3"
  },
  "language_info": {
   "codemirror_mode": {
    "name": "ipython",
    "version": 3
   },
   "file_extension": ".py",
   "mimetype": "text/x-python",
   "name": "python",
   "nbconvert_exporter": "python",
   "pygments_lexer": "ipython3",
   "version": "3.8.5"
  }
 },
 "nbformat": 4,
 "nbformat_minor": 4
}

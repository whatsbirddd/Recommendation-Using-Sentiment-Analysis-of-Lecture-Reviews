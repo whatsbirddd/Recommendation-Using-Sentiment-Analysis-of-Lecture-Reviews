{
 "cells": [
  {
   "cell_type": "code",
   "execution_count": 178,
   "metadata": {},
   "outputs": [],
   "source": [
    "import os\n",
    "import sys\n",
    "import re\n",
    "\n",
    "import numpy as np\n",
    "import pandas as pd\n",
    "\n",
    "import json\n",
    "\n",
    "import matplotlib.pyplot as plt\n",
    "%matplotlib inline\n",
    "import seaborn as sns\n",
    "sns.set(style='white', context='notebook', palette='deep')"
   ]
  },
  {
   "cell_type": "code",
   "execution_count": 197,
   "metadata": {
    "scrolled": true
   },
   "outputs": [
    {
     "data": {
      "text/html": [
       "<div>\n",
       "<style scoped>\n",
       "    .dataframe tbody tr th:only-of-type {\n",
       "        vertical-align: middle;\n",
       "    }\n",
       "\n",
       "    .dataframe tbody tr th {\n",
       "        vertical-align: top;\n",
       "    }\n",
       "\n",
       "    .dataframe thead th {\n",
       "        text-align: right;\n",
       "    }\n",
       "</style>\n",
       "<table border=\"1\" class=\"dataframe\">\n",
       "  <thead>\n",
       "    <tr style=\"text-align: right;\">\n",
       "      <th></th>\n",
       "      <th>url_id</th>\n",
       "      <th>index</th>\n",
       "      <th>lecture_name</th>\n",
       "      <th>professor_name</th>\n",
       "      <th>rate</th>\n",
       "      <th>semester</th>\n",
       "      <th>like</th>\n",
       "      <th>text</th>\n",
       "    </tr>\n",
       "  </thead>\n",
       "  <tbody>\n",
       "    <tr>\n",
       "      <th>0</th>\n",
       "      <td>535020</td>\n",
       "      <td>0</td>\n",
       "      <td>법학입문</td>\n",
       "      <td>이재교</td>\n",
       "      <td>100</td>\n",
       "      <td>20</td>\n",
       "      <td>0</td>\n",
       "      <td>판례평석 잘하면 성적잘 주시는것 같음. 중간 개망치고 기말도 틀린 문제 몇 개 있었...</td>\n",
       "    </tr>\n",
       "    <tr>\n",
       "      <th>1</th>\n",
       "      <td>535020</td>\n",
       "      <td>1</td>\n",
       "      <td>법학입문</td>\n",
       "      <td>이재교</td>\n",
       "      <td>80</td>\n",
       "      <td>20</td>\n",
       "      <td>0</td>\n",
       "      <td>과제들 되게 귀찮고 많다 시험은 말빨 좋으면 된다 난 시험은 망쳤지만 과제는 열심히...</td>\n",
       "    </tr>\n",
       "    <tr>\n",
       "      <th>2</th>\n",
       "      <td>535020</td>\n",
       "      <td>2</td>\n",
       "      <td>법학입문</td>\n",
       "      <td>이재교</td>\n",
       "      <td>80</td>\n",
       "      <td>20</td>\n",
       "      <td>0</td>\n",
       "      <td>수업은 ppt 띄워놓으시고 하시는데 보통 교안에 없는 다른 관련 사례를 중심으로 많...</td>\n",
       "    </tr>\n",
       "    <tr>\n",
       "      <th>3</th>\n",
       "      <td>535020</td>\n",
       "      <td>3</td>\n",
       "      <td>법학입문</td>\n",
       "      <td>이재교</td>\n",
       "      <td>100</td>\n",
       "      <td>20</td>\n",
       "      <td>0</td>\n",
       "      <td>교재에 없는 내용 많이 얘기해주시고, 말씀하신 내용에서 시험문제 내셔서 교재 그렇게...</td>\n",
       "    </tr>\n",
       "    <tr>\n",
       "      <th>4</th>\n",
       "      <td>535020</td>\n",
       "      <td>4</td>\n",
       "      <td>법학입문</td>\n",
       "      <td>이재교</td>\n",
       "      <td>100</td>\n",
       "      <td>20</td>\n",
       "      <td>0</td>\n",
       "      <td>사이버강의라 괜찮았지만 과제는 꽤 많았어요 시험은 수업 잘 들으면 잘 나옴</td>\n",
       "    </tr>\n",
       "  </tbody>\n",
       "</table>\n",
       "</div>"
      ],
      "text/plain": [
       "   url_id  index lecture_name professor_name  rate  semester  like  \\\n",
       "0  535020      0         법학입문            이재교   100        20     0   \n",
       "1  535020      1         법학입문            이재교    80        20     0   \n",
       "2  535020      2         법학입문            이재교    80        20     0   \n",
       "3  535020      3         법학입문            이재교   100        20     0   \n",
       "4  535020      4         법학입문            이재교   100        20     0   \n",
       "\n",
       "                                                text  \n",
       "0  판례평석 잘하면 성적잘 주시는것 같음. 중간 개망치고 기말도 틀린 문제 몇 개 있었...  \n",
       "1  과제들 되게 귀찮고 많다 시험은 말빨 좋으면 된다 난 시험은 망쳤지만 과제는 열심히...  \n",
       "2  수업은 ppt 띄워놓으시고 하시는데 보통 교안에 없는 다른 관련 사례를 중심으로 많...  \n",
       "3  교재에 없는 내용 많이 얘기해주시고, 말씀하신 내용에서 시험문제 내셔서 교재 그렇게...  \n",
       "4          사이버강의라 괜찮았지만 과제는 꽤 많았어요 시험은 수업 잘 들으면 잘 나옴  "
      ]
     },
     "execution_count": 197,
     "metadata": {},
     "output_type": "execute_result"
    }
   ],
   "source": [
    "review = pd.read_csv(\"data/review_datal_all.csv\")\n",
    "review = pd.DataFrame(review)\n",
    "review.head()"
   ]
  },
  {
   "cell_type": "code",
   "execution_count": 180,
   "metadata": {},
   "outputs": [],
   "source": [
    "review20 = review[review[\"semester\"]>=20]"
   ]
  },
  {
   "cell_type": "code",
   "execution_count": 181,
   "metadata": {},
   "outputs": [
    {
     "data": {
      "text/plain": [
       "professor_name\n",
       "신하얀, 이태하              128\n",
       "이유진                    76\n",
       "이태하                    65\n",
       "황용식                    64\n",
       "하지영                    51\n",
       "정연철                    44\n",
       "이요섭                    42\n",
       "정성원                    42\n",
       "Julian Kibum Chung     38\n",
       "전보영                    37\n",
       "dtype: int64"
      ]
     },
     "execution_count": 181,
     "metadata": {},
     "output_type": "execute_result"
    }
   ],
   "source": [
    "#교수님과 강의별로 강의리뷰 개수 :10개\n",
    "review_by_professor = review20.groupby(review20['professor_name']).size().sort_values(ascending=False)[:10]\n",
    "review_by_professor #헐 정연철교수님 개웃긴뎈ㅋㅋㅋㅋㅋ"
   ]
  },
  {
   "cell_type": "code",
   "execution_count": 182,
   "metadata": {},
   "outputs": [
    {
     "data": {
      "text/plain": [
       "professor_name      lecture_name                \n",
       "Joanne Kim-Yamada   English Reading Practice 1      8\n",
       "Mark Daniel Mechem  English Listening Practice 1    8\n",
       "고영대                 HTM 호스피탈리티스마트서비스                8\n",
       "Kyle F McCullagh    영어발음연습                          8\n",
       "Young In Chang      English Writing 1               8\n",
       "John P. Bernabei    English Writing 2               8\n",
       "Todd Tate           English Reading Practice 1      8\n",
       "Alberto Giacchini   비즈니스커뮤니케이션1                     8\n",
       "정영희                 영어학의세계                          8\n",
       "오승구                 경제학원론                           7\n",
       "김영래                 교육철학의이해                         7\n",
       "이학성                 자동제어                            7\n",
       "박황서                 유기화학                            7\n",
       "이성훈                 경영학원론                           7\n",
       "박상식                 공업수학2                           7\n",
       "심은화                 기초미적분학                          7\n",
       "최성신                 분석화학실험                          7\n",
       "계정권                 타이포그래피                          7\n",
       "이희원                 일변수미적분학                         7\n",
       "오장헌                 다변수미적분학                         7\n",
       "dtype: int64"
      ]
     },
     "execution_count": 182,
     "metadata": {},
     "output_type": "execute_result"
    }
   ],
   "source": [
    "prof = review['professor_name']\n",
    "lec = review['lecture_name']\n",
    "review_by_professor_and_lecture = review20.groupby([prof,lec]).size().sort_values(ascending=False)[:30]\n",
    "maybe_major_lec = review20.groupby([prof,lec]).size().sort_values(ascending=False)[100:120]\n",
    "maybe_major_lec\n",
    "\n",
    "#필수교양과목에 대한 데이터가 많음\n",
    "#전공관련 과목은 확실히 적음 :많아야 20개내외?\n",
    "#교수님 리뷰개수가 좋아서 많은건지 별로여서 많은건지?"
   ]
  },
  {
   "cell_type": "code",
   "execution_count": 183,
   "metadata": {},
   "outputs": [
    {
     "data": {
      "text/plain": [
       "professor_name\n",
       "김대종                           35.000000\n",
       "Mohammed H. Alsharif          34.545455\n",
       "계정권                           34.285714\n",
       "김용국                           34.000000\n",
       "노화용                           33.333333\n",
       "홍성욱                           32.000000\n",
       "주경희                           31.428571\n",
       "최성신                           31.111111\n",
       "이원준                           30.000000\n",
       "전유진                           30.000000\n",
       "이종혁                           26.666667\n",
       "한희섭                           20.000000\n",
       "Mamta AGIWAL                  20.000000\n",
       "김진성                           20.000000\n",
       "김종원                           20.000000\n",
       "채규현                           20.000000\n",
       "김이수                           20.000000\n",
       "이현주                           20.000000\n",
       "권순일                           20.000000\n",
       "Abolghasem Sadeghi-Niaraki    20.000000\n",
       "Name: rate, dtype: float64"
      ]
     },
     "execution_count": 183,
     "metadata": {},
     "output_type": "execute_result"
    }
   ],
   "source": [
    "#교수님별로 rate평균\n",
    "#강의 개수에따라서 rate파악필요할듯\n",
    "rate_mean = review20[\"rate\"].groupby(prof).mean().sort_values(ascending=False)[-20:]\n",
    "rate_mean #ㅋㅋㅋㅋㅋㅋㅋ거르자..."
   ]
  },
  {
   "cell_type": "code",
   "execution_count": 184,
   "metadata": {},
   "outputs": [
    {
     "data": {
      "text/html": [
       "<div>\n",
       "<style scoped>\n",
       "    .dataframe tbody tr th:only-of-type {\n",
       "        vertical-align: middle;\n",
       "    }\n",
       "\n",
       "    .dataframe tbody tr th {\n",
       "        vertical-align: top;\n",
       "    }\n",
       "\n",
       "    .dataframe thead th {\n",
       "        text-align: right;\n",
       "    }\n",
       "</style>\n",
       "<table border=\"1\" class=\"dataframe\">\n",
       "  <thead>\n",
       "    <tr style=\"text-align: right;\">\n",
       "      <th></th>\n",
       "      <th>url_id</th>\n",
       "      <th>index</th>\n",
       "      <th>lecture_name</th>\n",
       "      <th>rate</th>\n",
       "      <th>semester</th>\n",
       "      <th>like</th>\n",
       "      <th>text</th>\n",
       "    </tr>\n",
       "    <tr>\n",
       "      <th>professor_name</th>\n",
       "      <th></th>\n",
       "      <th></th>\n",
       "      <th></th>\n",
       "      <th></th>\n",
       "      <th></th>\n",
       "      <th></th>\n",
       "      <th></th>\n",
       "    </tr>\n",
       "  </thead>\n",
       "  <tbody>\n",
       "    <tr>\n",
       "      <th>김도년</th>\n",
       "      <td>10</td>\n",
       "      <td>10</td>\n",
       "      <td>10</td>\n",
       "      <td>10</td>\n",
       "      <td>10</td>\n",
       "      <td>10</td>\n",
       "      <td>10</td>\n",
       "    </tr>\n",
       "    <tr>\n",
       "      <th>김천식</th>\n",
       "      <td>4</td>\n",
       "      <td>4</td>\n",
       "      <td>4</td>\n",
       "      <td>4</td>\n",
       "      <td>4</td>\n",
       "      <td>4</td>\n",
       "      <td>4</td>\n",
       "    </tr>\n",
       "    <tr>\n",
       "      <th>박태순</th>\n",
       "      <td>5</td>\n",
       "      <td>5</td>\n",
       "      <td>5</td>\n",
       "      <td>5</td>\n",
       "      <td>5</td>\n",
       "      <td>5</td>\n",
       "      <td>5</td>\n",
       "    </tr>\n",
       "    <tr>\n",
       "      <th>이승원</th>\n",
       "      <td>1</td>\n",
       "      <td>1</td>\n",
       "      <td>1</td>\n",
       "      <td>1</td>\n",
       "      <td>1</td>\n",
       "      <td>1</td>\n",
       "      <td>1</td>\n",
       "    </tr>\n",
       "    <tr>\n",
       "      <th>임유승</th>\n",
       "      <td>2</td>\n",
       "      <td>2</td>\n",
       "      <td>2</td>\n",
       "      <td>2</td>\n",
       "      <td>2</td>\n",
       "      <td>2</td>\n",
       "      <td>2</td>\n",
       "    </tr>\n",
       "    <tr>\n",
       "      <th>한동일</th>\n",
       "      <td>2</td>\n",
       "      <td>2</td>\n",
       "      <td>2</td>\n",
       "      <td>2</td>\n",
       "      <td>2</td>\n",
       "      <td>2</td>\n",
       "      <td>2</td>\n",
       "    </tr>\n",
       "  </tbody>\n",
       "</table>\n",
       "</div>"
      ],
      "text/plain": [
       "                url_id  index  lecture_name  rate  semester  like  text\n",
       "professor_name                                                         \n",
       "김도년                 10     10            10    10        10    10    10\n",
       "김천식                  4      4             4     4         4     4     4\n",
       "박태순                  5      5             5     5         5     5     5\n",
       "이승원                  1      1             1     1         1     1     1\n",
       "임유승                  2      2             2     2         2     2     2\n",
       "한동일                  2      2             2     2         2     2     2"
      ]
     },
     "execution_count": 184,
     "metadata": {},
     "output_type": "execute_result"
    }
   ],
   "source": [
    "#elp\n",
    "testdata= review20[review20[\"lecture_name\"] == \"C프로그래밍및실습\"]\n",
    "testdata.groupby(\"professor_name\").count()"
   ]
  },
  {
   "cell_type": "code",
   "execution_count": 198,
   "metadata": {},
   "outputs": [
    {
     "data": {
      "text/plain": [
       "15"
      ]
     },
     "execution_count": 198,
     "metadata": {},
     "output_type": "execute_result"
    }
   ],
   "source": [
    "hwang=review[(review.professor_name==\"황용식\") & (review.lecture_name ==\"취업과진로\")]\n",
    "testhwang = list(hwang.text)\n",
    "len(testhwang) #15개의 데이터"
   ]
  },
  {
   "cell_type": "code",
   "execution_count": 199,
   "metadata": {},
   "outputs": [
    {
     "data": {
      "text/plain": [
       "['2학점 패논패 과목으로 중간/기말에는 보고서를 작성하는데 각각 30분 걸리는데 출석 제대로 하고 보고서 2번 작성하면 깔끔하게 패스 받을 수 있습니다.',\n",
       " '개꿀 2학점짜리 패논패. 무조건 듣는 거 추천. 시험은 없고 중간 기말 대채 과제는 있음',\n",
       " '꿀강의 그자체 안들으면 ㅂ ㅏ 보 임!  그리고 열심히 들으면 꽤 유용한 내용을 많이 알아감',\n",
       " '꿀강.그.자체 강추합니다!!!비대면이라 더 행복한 강의엿음',\n",
       " '중간, 기말 각각 2개씩 과제가 총 4개였는데 금방 할 수 있는 과제였음.',\n",
       " '필수과제만 잘 챙기면 이보다 꿀이 어디있어ㅋㅋㅋ 무조건 듣고 절업해요',\n",
       " '꿀강의입니다 얼른들으세요!!! 시험도 다 과제 제출입니다',\n",
       " '시험은 없었고 다 과제 대체였어요!제 기억으로는 진로 관련 검사랑 프로그램 참여, 요약문 정도 있었던 걸로 기억하는데 정~~~~말 부담스럽지 않습니다. 가벼운 과제들이에요! 교선1 패논패 2학점이라니....이만한 강의 찾기 힘듭니다...진짜 추천해요',\n",
       " '꿀강의~ 꼭 들으세요 패논패 2학점에 중간,기말 과제도 짧은 감상문이여서 부담 없어요',\n",
       " '과제 4번이 다였고 그렇게 많은 시간을 요구하지도 않음 강의도 나쁘지않고 다들 별5개 주는 이유가 있다',\n",
       " '패논패에 중간 기말 모두 과제 대체여서 부담없이 듣기 좋음취업에 관련된 기본적인 것을 알려주는 듯 최신동향도 알려줌',\n",
       " '학점 채우기 좋음 중간 기말 과제도 강의 듣고 소감 조금 쓰는 거 그런 거밖에 없고',\n",
       " '크게 힘 안 들이고 2학점 챙길 수 있는 강의!! 중선 학점 부족하신 분들 적극 추천. 2~3학년만 들을 수 있어요~',\n",
       " '이건 그냥 들으세요 꼭들으세요 진짜 들으셔야합니다.이거처럼 개꿀인 강의는 읎쒀요',\n",
       " '패논패과목이라 개꿀입니다 여러분 취업과진로 과목의 경우 들을 수 있는 학년이 정해져있으니 참고하시길 바랍니다']"
      ]
     },
     "execution_count": 199,
     "metadata": {},
     "output_type": "execute_result"
    }
   ],
   "source": [
    "testhwang"
   ]
  },
  {
   "cell_type": "code",
   "execution_count": null,
   "metadata": {},
   "outputs": [],
   "source": [
    "#1.한국어 데이터만 추출\n",
    "korean_data = []\n",
    "for doc in testhwang:\n",
    "    doc = re.sub(\"[^ㄱ-ㅎㅏ-ㅣ가-힣 ]\", \"\", doc)\n",
    "    korean_data.append(doc)\n",
    "\n",
    "#2.stopword\n",
    "path = 'data/stopwords-ko.txt'\n",
    "with open(path,encoding=\"utf-8\") as f:\n",
    "    stopwords =[word for word in f]\n",
    "\n",
    "#3.tokenization - 품사 (형용사, 동사에 감성분석)\n",
    "tokenized_doc=[]\n",
    "word_doc = []\n",
    "tokenization = input()\n",
    "from konlpy.tag import Okt\n",
    "tokenizer = Okt()\n",
    "for doc in korean_data:\n",
    "    if(tokenization == \"품사\"):\n",
    "        token = [pair for pair in tokenizer.pos(doc) if pair[0] not in stopwords and len(pair[0]) > 1] \n",
    "        words = [word for word, pos in token]\n",
    "        tokenized_doc.append(words)\n",
    "        word_doc.append(token)\n",
    "    if(tokenization == \"단어\"):\n",
    "        token = [word for word in doc.split() if word not in stopwords and len(word) > 1] \n",
    "        tokenized_doc.append(token)\n",
    "print(len(tokenized_doc))\n",
    "print(len(word_doc)) #품사일때"
   ]
  },
  {
   "cell_type": "code",
   "execution_count": 188,
   "metadata": {},
   "outputs": [
    {
     "name": "stdout",
     "output_type": "stream",
     "text": [
      "Total <konlpy.tag._okt.Okt object at 0x7f8734768880> :  208\n",
      "Total Unique <konlpy.tag._okt.Okt object at 0x7f8734768880> :  137\n",
      "[('과제', 11),\n",
      " ('강의', 9),\n",
      " ('학점', 7),\n",
      " ('패논패', 6),\n",
      " ('중간', 6),\n",
      " ('들으세요', 4),\n",
      " ('과목', 3),\n",
      " ('개꿀', 3),\n",
      " ('추천', 3),\n",
      " ('시험', 3)]\n"
     ]
    }
   ],
   "source": [
    "#빈도분석\n",
    "from pprint import pprint\n",
    "import nltk\n",
    "\n",
    "kor_total_tokens = []\n",
    "for token_doc in tokenized_doc:\n",
    "    kor_total_tokens += token_doc\n",
    "\n",
    "text = nltk.Text(kor_total_tokens)\n",
    "print(f\"Total {tokenizer} : \", len(text.tokens))\n",
    "print(f\"Total Unique {tokenizer} : \", len(set(text.tokens)))\n",
    "pprint(text.vocab().most_common(10))"
   ]
  },
  {
   "cell_type": "code",
   "execution_count": 189,
   "metadata": {},
   "outputs": [
    {
     "name": "stdout",
     "output_type": "stream",
     "text": [
      "['과제', '강의', '학점', '패논패', '중간']\n",
      "[11, 9, 7, 6, 6]\n"
     ]
    }
   ],
   "source": [
    "from nltk import FreqDist\n",
    " \n",
    "x=[]\n",
    "y=[]\n",
    "wordInfo = dict()\n",
    "for vocab,count in text.vocab().most_common(10):\n",
    "    x.append(vocab)\n",
    "    y.append(count)\n",
    "    wordInfo[vocab] = count\n",
    "\n",
    "test = {\"count\": x, \"sample\": y}\n",
    "print(x[:5])\n",
    "print(y[:5])"
   ]
  },
  {
   "cell_type": "code",
   "execution_count": 190,
   "metadata": {},
   "outputs": [
    {
     "name": "stdout",
     "output_type": "stream",
     "text": [
      "sys_font number: 426\n",
      "['/System/Library/AssetsV2/com_apple_MobileAsset_Font6/2881e7bf1eded0754923b34d310edb654f0a857a.asset/AssetData/MuktaMalar-Tamil.ttc', '/System/Library/Fonts/SFNSDisplayCondensed-Light.otf', '/System/Library/Fonts/Supplemental/Zapfino.ttf', '/System/Library/AssetsV2/com_apple_MobileAsset_Font6/cb9a85576455613deae27ccbede3cece696b39c0.asset/AssetData/Hanzipen.ttc', '/System/Library/Fonts/SFNSTextCondensed-Medium.otf', '/System/Library/Fonts/Supplemental/STIXIntDReg.otf', '/System/Library/Fonts/Supplemental/Trattatello.ttf', '/System/Library/Fonts/ヒラギノ角ゴシック W9.ttc', '/System/Library/Fonts/Supplemental/STIXIntUpReg.otf', '/System/Library/Fonts/Supplemental/Sana.ttc', '/System/Library/Fonts/Supplemental/NotoSansGlagolitic-Regular.ttf', '/System/Library/AssetsV2/com_apple_MobileAsset_Font6/ee9e9584cd1a5f676e03a9efcc80783bc7e12e2c.asset/AssetData/NanumGothic.ttc', '/System/Library/Fonts/Supplemental/STIXGeneralBol.otf', '/System/Library/Fonts/Supplemental/NotoSansKayahLi-Regular.ttf', '/System/Library/Fonts/MuktaMahee.ttc', '/System/Library/Fonts/Apple Braille.ttf', '/System/Library/Fonts/Supplemental/Lao Sangam MN.ttf', '/System/Library/Fonts/Supplemental/Savoye LET.ttc', '/System/Library/Fonts/Supplemental/Courier New.ttf', '/System/Library/AssetsV2/com_apple_MobileAsset_Font6/7cb72b1f60ccd0551894a1f248aa7c28fa3afb1d.asset/AssetData/Kai.ttf', '/System/Library/AssetsV2/com_apple_MobileAsset_Font6/0e78e10f6c9d306bd197282bbc77c29c3ec1991f.asset/AssetData/LiSongPro.ttf', '/System/Library/Fonts/Supplemental/STIXVar.otf', '/System/Library/Fonts/Supplemental/Hoefler Text.ttc', '/System/Library/Fonts/Supplemental/NotoSansLydian-Regular.ttf', '/System/Library/Fonts/Supplemental/Georgia Italic.ttf', '/System/Library/Fonts/Supplemental/Bradley Hand Bold.ttf', '/System/Library/Fonts/Supplemental/NotoSansVai-Regular.ttf', '/System/Library/Fonts/Supplemental/Gujarati Sangam MN.ttc', '/Users/saeran/Library/Fonts/NanumSquareRoundL.ttf', '/System/Library/AssetsV2/com_apple_MobileAsset_Font6/0bf481576853d9a4c7f674a4e91987cb3bf5589e.asset/AssetData/JainiPurvaDevanagari-Regular.ttf', '/System/Library/Fonts/Supplemental/SnellRoundhand.ttc', '/System/Library/Fonts/Supplemental/Mshtakan.ttc', '/System/Library/Fonts/Supplemental/Sinhala MN.ttc', '/System/Library/Fonts/Supplemental/STIXSizFourSymReg.otf', '/System/Library/Fonts/Supplemental/NotoSansTagbanwa-Regular.ttf', '/System/Library/Fonts/Supplemental/STIXIntUpDReg.otf', '/System/Library/Fonts/Supplemental/AlBayan.ttc', '/Users/saeran/Library/Fonts/NanumBarunpenBold.ttf', '/System/Library/Fonts/Supplemental/Bodoni Ornaments.ttf', '/System/Library/Fonts/Supplemental/InaiMathi-MN.ttc', '/System/Library/Fonts/Supplemental/Trebuchet MS.ttf', '/System/Library/Fonts/KohinoorGujarati.ttc', '/System/Library/Fonts/SFNSDisplayCondensed-Bold.otf', '/System/Library/Fonts/Supplemental/STIXGeneral.otf', '/System/Library/Fonts/Supplemental/NotoSansKaithi-Regular.ttf', '/System/Library/Fonts/Supplemental/NotoSansAvestan-Regular.ttf', '/System/Library/Fonts/Supplemental/Gurmukhi Sangam MN.ttc', '/System/Library/Fonts/Supplemental/NotoSansLycian-Regular.ttf', '/System/Library/Fonts/Supplemental/Arial Rounded Bold.ttf', '/System/Library/Fonts/Apple Braille Pinpoint 6 Dot.ttf', '/System/Library/Fonts/Supplemental/Trebuchet MS Bold Italic.ttf', '/System/Library/Fonts/SFNSDisplayCondensed-Medium.otf', '/System/Library/Fonts/Supplemental/Times New Roman Italic.ttf', '/System/Library/Fonts/Supplemental/STIXGeneralBolIta.otf', '/System/Library/Fonts/Avenir.ttc', '/System/Library/Fonts/Supplemental/Malayalam Sangam MN.ttc', '/System/Library/AssetsV2/com_apple_MobileAsset_Font6/4c66b413a81d594dc2fc430266c1629c30a5237b.asset/AssetData/STFANGSO.ttf', '/System/Library/AssetsV2/com_apple_MobileAsset_Font6/ec2979c8550757993101e27b30b2b89cb45917fc.asset/AssetData/Yuanti.ttc', '/System/Library/AssetsV2/com_apple_MobileAsset_Font6/2b7f7563c19c6a53b476a95ec6f488dc59ef6b19.asset/AssetData/BalooBhainaOdia-Regular.ttf', '/System/Library/Fonts/Apple Braille Outline 8 Dot.ttf', '/System/Library/Fonts/Supplemental/NotoSansCarian-Regular.ttf', '/System/Library/Fonts/Supplemental/Times New Roman Bold.ttf', '/System/Library/Fonts/Supplemental/NotoSansOldSouthArabian-Regular.ttf', '/System/Library/Fonts/Supplemental/Herculanum.ttf', '/System/Library/Fonts/Supplemental/Mishafi.ttf', '/System/Library/Fonts/Avenir Next.ttc', '/System/Library/Fonts/Supplemental/Verdana Bold.ttf', '/Users/saeran/Library/Fonts/NanumSquareBold.ttf', '/System/Library/Fonts/Supplemental/Seravek.ttc', '/System/Library/Fonts/SFCompactTextItalic.ttf', '/System/Library/Fonts/Supplemental/Raanana.ttc', '/System/Library/Fonts/Supplemental/NotoSansOldPersian-Regular.ttf', '/System/Library/Fonts/HelveticaNeue.ttc', '/System/Library/Fonts/Supplemental/Verdana Italic.ttf', '/System/Library/Fonts/Supplemental/Arial Narrow.ttf', '/System/Library/Fonts/SFNSTextCondensed-Light.otf', '/Library/Fonts/NanumSquareRoundEB.ttf', '/System/Library/Fonts/Supplemental/ITFDevanagari.ttc', '/System/Library/AssetsV2/com_apple_MobileAsset_Font6/c91371d5492434af5929487028bf10767406267c.asset/AssetData/Baoli.ttc', '/System/Library/AssetsV2/com_apple_MobileAsset_Font6/b7cb86712134835abc2a6766c2e6f643b3d4a777.asset/AssetData/TiroBangla.ttc', '/System/Library/Fonts/Supplemental/PTMono.ttc', '/System/Library/Fonts/Supplemental/Courier New Bold Italic.ttf', '/System/Library/Fonts/ヒラギノ角ゴシック W1.ttc', '/System/Library/AssetsV2/com_apple_MobileAsset_Font6/a19eb7cce29b1f0673ae2aecff74dd5f38a730aa.asset/AssetData/MuktaVaani-Gujarati.ttc', '/System/Library/Fonts/STHeiti Medium.ttc', '/System/Library/AssetsV2/com_apple_MobileAsset_Font6/6e1d85db88d5f7e0f8275826213e3ac8db53595f.asset/AssetData/LahoreGurmukhi.ttc', '/System/Library/Fonts/Supplemental/GillSans.ttc', '/System/Library/Fonts/Supplemental/Georgia Bold.ttf', '/System/Library/AssetsV2/com_apple_MobileAsset_Font6/7912a7db209e28f561e770eb85a0ea9cb39f89ef.asset/AssetData/Hiragino_Sans_CNS.ttc', '/System/Library/Fonts/SFNS.ttf', '/System/Library/Fonts/Supplemental/PTSans.ttc', '/System/Library/Fonts/ヒラギノ角ゴシック W0.ttc', '/System/Library/Fonts/Supplemental/SukhumvitSet.ttc', '/System/Library/Fonts/STHeiti Light.ttc', '/System/Library/Fonts/Times.ttc', '/System/Library/Fonts/Supplemental/GujaratiMT.ttc', '/System/Library/Fonts/Apple Braille Pinpoint 8 Dot.ttf', '/System/Library/Fonts/Kohinoor.ttc', '/System/Library/Fonts/Supplemental/Comic Sans MS Bold.ttf', '/System/Library/AssetsV2/com_apple_MobileAsset_Font6/bc1af2ecada8568f934993aa1551add5d41df861.asset/AssetData/BalooThambiTamil-Regular.ttf', '/System/Library/Fonts/Supplemental/Lao MN.ttc', '/System/Library/Fonts/Supplemental/Al Nile.ttc', '/System/Library/Fonts/Supplemental/Kokonor.ttf', '/System/Library/Fonts/Supplemental/Gurmukhi MN.ttc', '/Users/saeran/Library/Fonts/NanumSquareRoundEB.ttf', '/System/Library/Fonts/Supplemental/Arial Narrow Italic.ttf', '/System/Library/AssetsV2/com_apple_MobileAsset_Font6/ac3e154cec7affea536ee3a5a859b0dd78eb0c17.asset/AssetData/Gungseouche.ttf', '/System/Library/AssetsV2/com_apple_MobileAsset_Font6/4c5fb4ab37ef16487d14e6bfa70a8b98f7e1efa8.asset/AssetData/WawaSC-Regular.otf', '/Users/saeran/Library/Fonts/NanumBarunpenRegular.ttf', '/System/Library/AssetsV2/com_apple_MobileAsset_Font6/3b0bb049516d6dd825e1cd8731587ca7415517ff.asset/AssetData/NanumScript.ttc', '/System/Library/AssetsV2/com_apple_MobileAsset_Font6/a9493193571d657774c2321231271ab122748178.asset/AssetData/BalooPaajiGurmukhi-Regular.ttf', '/System/Library/Fonts/Supplemental/Krungthep.ttf', '/System/Library/Fonts/Supplemental/STIXSizThreeSymReg.otf', '/System/Library/Fonts/Supplemental/Apple Chancery.ttf', '/System/Library/Fonts/Apple Braille Outline 6 Dot.ttf', '/Users/saeran/Library/Fonts/NanumBarunGothicLight.ttf', '/System/Library/Fonts/Supplemental/Arial Black.ttf', '/System/Library/Fonts/Supplemental/NotoSansCuneiform-Regular.ttf', '/System/Library/Fonts/Supplemental/NotoSansImperialAramaic-Regular.ttf', '/System/Library/Fonts/Supplemental/STIXSizTwoSymReg.otf', '/Library/Fonts/NanumSquareRoundB.ttf', '/System/Library/AssetsV2/com_apple_MobileAsset_Font6/b6c310298897f0ac2b38dafd41cef452a0557a31.asset/AssetData/YuppyTC-Regular.otf', '/Library/Fonts/NanumSquareRoundR.ttf', '/System/Library/Fonts/Supplemental/NotoSansJavanese-Regular.otf', '/System/Library/Fonts/SFNSMono.ttf', '/System/Library/Fonts/Supplemental/Trebuchet MS Italic.ttf', '/System/Library/Fonts/Supplemental/Verdana Bold Italic.ttf', '/System/Library/Fonts/Supplemental/SignPainter.ttc', '/System/Library/Fonts/Supplemental/Khmer Sangam MN.ttf', '/System/Library/Fonts/Supplemental/Kannada MN.ttc', '/System/Library/Fonts/Supplemental/NotoSansMandaic-Regular.ttf', '/System/Library/Fonts/Menlo.ttc', '/System/Library/Fonts/Supplemental/Tamil Sangam MN.ttc', '/System/Library/Fonts/Supplemental/Comic Sans MS.ttf', '/System/Library/AssetsV2/com_apple_MobileAsset_Font6/ca3d9ecf824ebf20ea951a166b3a8aaecc59e152.asset/AssetData/Baloo-Devanagari.ttf', '/System/Library/Fonts/Supplemental/Times New Roman Bold Italic.ttf', '/System/Library/Fonts/SFNSDisplayCondensed-Ultralight.otf', '/System/Library/Fonts/Supplemental/Telugu Sangam MN.ttc', '/System/Library/Fonts/LucidaGrande.ttc', '/System/Library/Fonts/Supplemental/STIXSizThreeSymBol.otf', '/System/Library/AssetsV2/com_apple_MobileAsset_Font6/00e58c0676b9e589e9309dbca4b795bbba3b5420.asset/AssetData/Kaiti.ttc', '/System/Library/Fonts/SFNSDisplayCondensed-Thin.otf', '/Users/saeran/Library/Fonts/NanumGothicLight.ttf', '/System/Library/Fonts/NotoSansOriya.ttc', '/System/Library/AssetsV2/com_apple_MobileAsset_Font6/4dc47087e296b6b4e86e5d26d0a50bdd8b17233c.asset/AssetData/BalooChettanMalayalam-Regular.ttf', '/System/Library/AssetsV2/com_apple_MobileAsset_Font6/8def8795a8bc5906be76cb45d9ca92ff305adb0f.asset/AssetData/TsukushiAMaruGothic.ttc', '/System/Library/Fonts/Avenir Next Condensed.ttc', '/System/Library/AssetsV2/com_apple_MobileAsset_Font6/59eea1dbb6e3a478269685d423fe0459db562463.asset/AssetData/BalooTammuduTelugu-Regular.ttf', '/System/Library/Fonts/Supplemental/Georgia Bold Italic.ttf', '/System/Library/Fonts/Supplemental/NotoSansUgaritic-Regular.ttf', '/System/Library/Fonts/Supplemental/NotoSansKharoshthi-Regular.ttf', '/System/Library/Fonts/Supplemental/PlantagenetCherokee.ttf', '/System/Library/Fonts/NewYork.ttf', '/Library/Fonts/Arial Unicode.ttf', '/System/Library/Fonts/Supplemental/NewPeninimMT.ttc', '/System/Library/Fonts/Supplemental/STIXSizOneSymBol.otf', '/System/Library/Fonts/Supplemental/NotoSansLimbu-Regular.ttf', '/System/Library/Fonts/Supplemental/Oriya Sangam MN.ttc', '/System/Library/AssetsV2/com_apple_MobileAsset_Font6/693bb8838084c6f5f476acaa6741ad8eae9db8da.asset/AssetData/WawaTC-Regular.otf', '/System/Library/Fonts/Helvetica.ttc', '/System/Library/Fonts/Optima.ttc', '/System/Library/Fonts/Supplemental/Charter.ttc', '/System/Library/Fonts/Supplemental/STIXIntDBol.otf', '/System/Library/Fonts/ヒラギノ角ゴシック W3.ttc', '/System/Library/Fonts/Supplemental/PTSerifCaption.ttc', '/System/Library/Fonts/Apple Symbols.ttf', '/System/Library/AssetsV2/com_apple_MobileAsset_Font6/571e7d7e94d39f5b19e257b4bb7ec73e5adaf22e.asset/AssetData/TiroTamil.ttc', '/System/Library/Fonts/GeezaPro.ttc', '/System/Library/Fonts/SFCompactDisplay.ttf', '/System/Library/AssetsV2/com_apple_MobileAsset_Font6/4c7afa24c934c96d23803f01be8921c21807fa62.asset/AssetData/TiroTelugu.ttc', '/System/Library/AssetsV2/com_apple_MobileAsset_Font6/263f8d1ebcf06f4703bab24071039da20fb4bb92.asset/AssetData/Libian.ttc', '/System/Library/Fonts/Supplemental/NotoSansRejang-Regular.ttf', '/System/Library/Fonts/Supplemental/Andale Mono.ttf', '/System/Library/Fonts/Supplemental/NotoSansTaiLe-Regular.ttf', '/System/Library/Fonts/SFNSItalic.ttf', '/System/Library/Fonts/Supplemental/STIXIntSmReg.otf', '/System/Library/Fonts/SFNSTextCondensed-Bold.otf', '/System/Library/Fonts/NewYorkItalic.ttf', '/System/Library/AssetsV2/com_apple_MobileAsset_Font6/5ef536f846908ec81f4b37caef397b3cb050b64e.asset/AssetData/ToppanBunkyuGothicPr6N.ttc', '/System/Library/Fonts/Supplemental/NotoSansOsmanya-Regular.ttf', '/System/Library/Fonts/ヒラギノ明朝 ProN.ttc', '/System/Library/Fonts/Supplemental/NotoSansOgham-Regular.ttf', '/System/Library/Fonts/Supplemental/NotoSansSamaritan-Regular.ttf', '/System/Library/Fonts/NotoSansArmenian.ttc', '/System/Library/Fonts/Supplemental/STIXIntUpBol.otf', '/System/Library/Fonts/Supplemental/STIXSizFiveSymReg.otf', '/System/Library/Fonts/Supplemental/Chalkduster.ttf', '/System/Library/Fonts/SFNSRounded.ttf', '/System/Library/Fonts/Supplemental/Al Tarikh.ttc', '/System/Library/Fonts/Supplemental/Telugu MN.ttc', '/System/Library/Fonts/Supplemental/STIXIntUpSmReg.otf', '/System/Library/Fonts/Supplemental/Georgia.ttf', '/System/Library/AssetsV2/com_apple_MobileAsset_Font6/9a7b86f75242026d7dcc84b171a9d08d05dfe079.asset/AssetData/NotoSerifKannada.ttc', '/System/Library/Fonts/Supplemental/Times New Roman.ttf', '/System/Library/Fonts/Apple Color Emoji.ttc', '/System/Library/Fonts/Supplemental/PTSerif.ttc', '/System/Library/Fonts/Supplemental/NotoSansMongolian-Regular.ttf', '/System/Library/Fonts/Supplemental/STIXIntUpDBol.otf', '/System/Library/Fonts/Supplemental/NotoSansOldTurkic-Regular.ttf', '/System/Library/Fonts/Supplemental/NotoSansHanunoo-Regular.ttf', '/System/Library/Fonts/ArabicUIText.ttc', '/System/Library/AssetsV2/com_apple_MobileAsset_Font6/9f8f044e3048fc7e6386ea20be4b8f991e0a88c0.asset/AssetData/Shobhika-Devanagari.ttc', '/System/Library/Fonts/SFNSTextCondensed-Regular.otf', '/System/Library/Fonts/Noteworthy.ttc', '/System/Library/AssetsV2/com_apple_MobileAsset_Font6/a4374b18bc562b80a5a4940e1f2008bbd58156c4.asset/AssetData/STXIHEI.ttf', '/System/Library/AssetsV2/com_apple_MobileAsset_Font6/bf625d290b705582d5fd619878281f3325b075d0.asset/AssetData/STHEITI.ttf', '/System/Library/Fonts/Supplemental/NotoSansRunic-Regular.ttf', '/System/Library/Fonts/ヒラギノ角ゴシック W5.ttc', '/System/Library/Fonts/Supplemental/Tahoma Bold.ttf', '/System/Library/AssetsV2/com_apple_MobileAsset_Font6/583519b80beacd4c491545da47385740f651e7a6.asset/AssetData/WeibeiTC-Bold.otf', '/System/Library/Fonts/SFNSDisplayCondensed-Black.otf', '/System/Library/Fonts/Supplemental/NotoSansTifinagh-Regular.ttf', '/System/Library/AssetsV2/com_apple_MobileAsset_Font6/5295ff79cb78f977aec45aa371a1d7a8f804a3e8.asset/AssetData/CambayDevanagari.ttc', '/System/Library/Fonts/Supplemental/Arial Italic.ttf', '/System/Library/Fonts/Supplemental/Arial.ttf', '/System/Library/Fonts/Supplemental/Bodoni 72 Smallcaps Book.ttf', '/System/Library/Fonts/Supplemental/Courier New Bold.ttf', '/System/Library/Fonts/Supplemental/Khmer MN.ttc', '/System/Library/Fonts/Supplemental/Athelas.ttc', '/System/Library/Fonts/Supplemental/Corsiva.ttc', '/System/Library/Fonts/Supplemental/Arial Narrow Bold Italic.ttf', '/System/Library/AssetsV2/com_apple_MobileAsset_Font6/ec1c50819e6d5acaa3c3d29d3144d5df2821b7f5.asset/AssetData/TiroGurmukhi.ttc', '/System/Library/Fonts/Supplemental/Arial Bold.ttf', '/System/Library/Fonts/SFNSDisplayCondensed-Regular.otf', '/System/Library/Fonts/Supplemental/Shree714.ttc', '/System/Library/AssetsV2/com_apple_MobileAsset_Font6/b6841082981e7a8ab74788c20cb89f11493fd4bf.asset/AssetData/LingWaiSC-Medium.otf', '/Users/saeran/Library/Fonts/NanumSquareRegular.ttf', '/System/Library/AssetsV2/com_apple_MobileAsset_Font6/54bf47f95f68cb2b8230195423a01424fa6c7154.asset/AssetData/TiroHindi.ttc', '/System/Library/Fonts/Supplemental/NotoSansNewTaiLue-Regular.ttf', '/System/Library/Fonts/Supplemental/AmericanTypewriter.ttc', '/System/Library/AssetsV2/com_apple_MobileAsset_Font6/0fc316ba64aa111ba93c9f223464a35006524100.asset/AssetData/Kyokasho.ttc', '/System/Library/AssetsV2/com_apple_MobileAsset_Font6/ef5c003e899356f9f5ff6d80d7c0ba0a56fcfde4.asset/AssetData/JainiDevanagari-Regular.ttf', '/System/Library/Fonts/Thonburi.ttc', '/System/Library/AssetsV2/com_apple_MobileAsset_Font6/28e55afbf7022f012e4a3ef68fa96d9a71bd1cd7.asset/AssetData/Pilgiche.ttf', '/System/Library/Fonts/Supplemental/Microsoft Sans Serif.ttf', '/System/Library/Fonts/Supplemental/AppleGothic.ttf', '/System/Library/Fonts/KohinoorBangla.ttc', '/System/Library/Fonts/Supplemental/Copperplate.ttc', '/System/Library/Fonts/ArabicUIDisplay.ttc', '/System/Library/Fonts/Supplemental/NotoSansTaiTham-Regular.ttf', '/System/Library/Fonts/SFNSMonoItalic.ttf', '/System/Library/Fonts/Supplemental/STIXNonUniIta.otf', '/System/Library/Fonts/Supplemental/Kailasa.ttc', '/System/Library/Fonts/MarkerFelt.ttc', '/System/Library/Fonts/PingFang.ttc', '/System/Library/Fonts/Supplemental/Songti.ttc', '/System/Library/Fonts/Supplemental/Nadeem.ttc', '/System/Library/Fonts/Keyboard.ttf', '/System/Library/Fonts/Supplemental/DIN Condensed Bold.ttf', '/Library/Fonts/NanumSquareRegular.ttf', '/System/Library/AssetsV2/com_apple_MobileAsset_Font6/5c10807185ddbca859bc0b3ecefe55ebb1985aa9.asset/AssetData/NanumMyeongjo.ttc', '/System/Library/Fonts/NotoSansKannada.ttc', '/Users/saeran/Library/Fonts/NanumSquareLight.ttf', '/System/Library/Fonts/Supplemental/NotoSansSyriac-Regular.ttf', '/System/Library/Fonts/Supplemental/Tahoma.ttf', '/System/Library/AssetsV2/com_apple_MobileAsset_Font6/5c5ff94f65c8472a12188a8ce9843eee9307a2b6.asset/AssetData/OsakaMono.ttf', '/System/Library/Fonts/Supplemental/Hoefler Text Ornaments.ttf', '/System/Library/Fonts/Supplemental/NotoSerifBalinese-Regular.ttf', '/System/Library/Fonts/Supplemental/Beirut.ttc', '/System/Library/AssetsV2/com_apple_MobileAsset_Font6/3ec2a48887d59eda324f2305740c577d313689ac.asset/AssetData/Modak-Devanagari.ttf', '/System/Library/AssetsV2/com_apple_MobileAsset_Font6/8ad04015359b75f65d68b465cbab918051c72e6d.asset/AssetData/AppleLiGothic-Medium.ttf', '/System/Library/AssetsV2/com_apple_MobileAsset_Font6/14a24f75750dfdd5cb190b7d808e8d4731888704.asset/AssetData/ToppanBunkyuMidashiMinchoStdN-ExtraBold.otf', '/System/Library/AssetsV2/com_apple_MobileAsset_Font6/6ec5cb139687d842d0186f98215ef1c477df6cc0.asset/AssetData/TsukushiBMaruGothic.ttc', '/System/Library/Fonts/Supplemental/Oriya MN.ttc', '/System/Library/Fonts/Supplemental/NotoSansSaurashtra-Regular.ttf', '/System/Library/Fonts/Supplemental/ChalkboardSE.ttc', '/System/Library/Fonts/Supplemental/DecoTypeNaskh.ttc', '/System/Library/AssetsV2/com_apple_MobileAsset_Font6/a3b1936b33a95120db4abbc9c59da5bdbea384ee.asset/AssetData/Lantinghei.ttc', '/System/Library/Fonts/Supplemental/NotoSansBamum-Regular.ttf', '/System/Library/Fonts/Supplemental/Silom.ttf', '/System/Library/Fonts/AppleSDGothicNeo.ttc', '/System/Library/Fonts/Supplemental/NotoSansChakma-Regular.ttf', '/System/Library/Fonts/Supplemental/Skia.ttf', '/System/Library/Fonts/SFNSTextCondensed-Semibold.otf', '/System/Library/Fonts/Supplemental/NotoSansSundanese-Regular.ttf', '/System/Library/Fonts/Supplemental/Trebuchet MS Bold.ttf', '/System/Library/Fonts/Supplemental/Courier New Italic.ttf', '/System/Library/Fonts/Symbol.ttf', '/System/Library/Fonts/Supplemental/NotoSansCoptic-Regular.ttf', '/System/Library/Fonts/KohinoorTelugu.ttc', '/System/Library/Fonts/ヒラギノ角ゴシック W2.ttc', '/System/Library/AssetsV2/com_apple_MobileAsset_Font6/7eaf18f070dabf01554730f96cb381e336c7fa11.asset/AssetData/AppleLiSung-Light.ttf', '/System/Library/Fonts/Supplemental/SuperClarendon.ttc', '/System/Library/Fonts/Hiragino Sans GB.ttc', '/System/Library/Fonts/NotoSansMyanmar.ttc', '/System/Library/Fonts/Supplemental/Kannada Sangam MN.ttc', '/System/Library/AssetsV2/com_apple_MobileAsset_Font6/77368dfa9dba1fbbd6019b7ee1a7fc25d1169649.asset/AssetData/BiauKai.ttf', '/System/Library/Fonts/Supplemental/Malayalam MN.ttc', '/System/Library/Fonts/Supplemental/NotoSansLisu-Regular.ttf', '/System/Library/Fonts/SFNSTextCondensed-Heavy.otf', '/System/Library/Fonts/Supplemental/STIXNonUni.otf', '/System/Library/Fonts/Supplemental/Damascus.ttc', '/System/Library/Fonts/Supplemental/NotoSansInscriptionalParthian-Regular.ttf', '/System/Library/Fonts/Supplemental/NotoSansCham-Regular.ttf', '/System/Library/Fonts/Supplemental/NotoSansLepcha-Regular.ttf', '/System/Library/AssetsV2/com_apple_MobileAsset_Font6/e1c398cc51a19115b37de7d5a100f4baff045823.asset/AssetData/BalooBhai-Gujarati.ttf', '/System/Library/Fonts/Supplemental/Verdana.ttf', '/System/Library/AssetsV2/com_apple_MobileAsset_Font6/8d2f0d4bc7cb132efb49ebe29878a9a6c6a07a1c.asset/AssetData/BalooTammaKannada-Regular.ttf', '/System/Library/Fonts/Supplemental/STIXSizOneSymReg.otf', '/System/Library/Fonts/Supplemental/NotoSansBuginese-Regular.ttf', '/System/Library/Fonts/Supplemental/Myanmar Sangam MN.ttc', '/System/Library/Fonts/AquaKana.ttc', '/System/Library/Fonts/Supplemental/STIXIntSmBol.otf', '/System/Library/Fonts/Supplemental/Muna.ttc', '/System/Library/Fonts/ZapfDingbats.ttf', '/System/Library/Fonts/Supplemental/NotoSansThaana-Regular.ttf', '/System/Library/Fonts/ヒラギノ角ゴシック W8.ttc', '/System/Library/Fonts/Supplemental/Sinhala Sangam MN.ttc', '/System/Library/Fonts/Supplemental/Chalkboard.ttc', '/System/Library/Fonts/NotoSerifMyanmar.ttc', '/System/Library/Fonts/Supplemental/Wingdings 2.ttf', '/System/Library/Fonts/Supplemental/Tamil MN.ttc', '/System/Library/AssetsV2/com_apple_MobileAsset_Font6/684219ded35e33eb2044a4e29ecb9c6d74acc0b6.asset/AssetData/GotuDevanagari-Regular.ttf', '/System/Library/AssetsV2/com_apple_MobileAsset_Font6/96887f5398e3fc37ec326507b9ca72c87be57ff7.asset/AssetData/PCmyoungjo.ttf', '/Users/saeran/Library/Fonts/NanumSquareExtraBold.ttf', '/System/Library/Fonts/Supplemental/Waseem.ttc', '/System/Library/AssetsV2/com_apple_MobileAsset_Font6/d50449b2041f6698bb287b393361e3e4631b4ff0.asset/AssetData/TiroMarathi.ttc', '/Users/saeran/Library/Fonts/NanumSquareRoundB.ttf', '/System/Library/Fonts/Supplemental/Farah.ttc', '/System/Library/AssetsV2/com_apple_MobileAsset_Font6/a5578564cd8cb162d7ba1544317ef3ae407bf939.asset/AssetData/Klee.ttc', '/System/Library/Fonts/Supplemental/Gurmukhi.ttf', '/System/Library/AssetsV2/com_apple_MobileAsset_Font6/0b1f665c1316139913c24ab77db94d9609bb4a2d.asset/AssetData/TiroSanskrit.ttc', '/System/Library/Fonts/Supplemental/STIXSizFourSymBol.otf', '/System/Library/Fonts/Supplemental/STIXNonUniBol.otf', '/System/Library/AssetsV2/com_apple_MobileAsset_Font6/f9cb1a8cb284e4cfae229f476cbe49331215cc60.asset/AssetData/Ornanong.ttc', '/System/Library/Fonts/Supplemental/NotoSansSylotiNagri-Regular.ttf', '/System/Library/Fonts/Supplemental/Bangla Sangam MN.ttc', '/System/Library/Fonts/Supplemental/Wingdings 3.ttf', '/System/Library/Fonts/Supplemental/NotoSansPhagsPa-Regular.ttf', '/System/Library/Fonts/Supplemental/STIXSizTwoSymBol.otf', '/System/Library/Fonts/Supplemental/NotoSansTaiViet-Regular.ttf', '/System/Library/Fonts/Supplemental/Kefa.ttc', '/System/Library/Fonts/SFCompactText.ttf', '/System/Library/Fonts/Supplemental/DevanagariMT.ttc', '/System/Library/Fonts/Supplemental/Myanmar MN.ttc', '/System/Library/Fonts/Supplemental/NotoSansLinearB-Regular.ttf', '/System/Library/Fonts/Supplemental/Arial Bold Italic.ttf', '/System/Library/AssetsV2/com_apple_MobileAsset_Font6/c7c8e5cb889b80fff0175bf138a7b66c6f027f21.asset/AssetData/ToppanBunkyuMidashiGothicStdN-ExtraBold.otf', '/System/Library/AssetsV2/com_apple_MobileAsset_Font6/4a8880f3102feac2e837433ed11c7c0e2154bd48.asset/AssetData/BalooBhaijaanUrdu-Regular.ttf', '/System/Library/Fonts/Supplemental/Farisi.ttf', '/System/Library/AssetsV2/com_apple_MobileAsset_Font6/c2e85ff2325814a0f6ebd90957fbdb5e5b396867.asset/AssetData/YuppySC-Regular.otf', '/System/Library/AssetsV2/com_apple_MobileAsset_Font6/fcc77abee40ac0268e0a78ea256448a23736fcaf.asset/AssetData/WeibeiSC-Bold.otf', '/System/Library/Fonts/Supplemental/Impact.ttf', '/Library/Fonts/NanumSquareRoundL.ttf', '/System/Library/Fonts/Supplemental/Rockwell.ttc', '/System/Library/Fonts/Supplemental/Cochin.ttc', '/System/Library/Fonts/SFNSDisplayCondensed-Semibold.otf', '/System/Library/Fonts/Supplemental/NotoSansYi-Regular.ttf', '/System/Library/Fonts/Supplemental/Bodoni 72.ttc', '/System/Library/Fonts/Supplemental/Diwan Thuluth.ttf', '/System/Library/Fonts/ヒラギノ角ゴシック W6.ttc', '/System/Library/Fonts/Supplemental/Arial Unicode.ttf', '/System/Library/Fonts/Supplemental/NotoSansInscriptionalPahlavi-Regular.ttf', '/System/Library/Fonts/Supplemental/NotoSansShavian-Regular.ttf', '/System/Library/AssetsV2/com_apple_MobileAsset_Font6/6eda9db6065eccfa83b34ae4c3111810efffc1b5.asset/AssetData/LiHeiPro.ttf', '/System/Library/Fonts/SFNSDisplayCondensed-Heavy.otf', '/System/Library/Fonts/Supplemental/STIXNonUniBolIta.otf', '/System/Library/Fonts/Supplemental/NotoSansBuhid-Regular.ttf', '/System/Library/Fonts/Supplemental/EuphemiaCAS.ttc', '/System/Library/AssetsV2/com_apple_MobileAsset_Font6/fedef1896002be99406da1bf1a1a6104a1737b39.asset/AssetData/Xingkai.ttc', '/System/Library/Fonts/Supplemental/NISC18030.ttf', '/System/Library/Fonts/Supplemental/Papyrus.ttc', '/System/Library/Fonts/Supplemental/DIN Alternate Bold.ttf', '/System/Library/Fonts/Supplemental/Phosphate.ttc', '/System/Library/Fonts/Supplemental/STIXVarBol.otf', '/System/Library/Fonts/LastResort.otf', '/System/Library/Fonts/Supplemental/STIXIntUpSmBol.otf', '/System/Library/AssetsV2/com_apple_MobileAsset_Font6/bdee83ea598d4a36c665b2095e0f39376e9c182b.asset/AssetData/YuMincho.ttc', '/System/Library/Fonts/Supplemental/Bodoni 72 OS.ttc', '/System/Library/AssetsV2/com_apple_MobileAsset_Font6/00a83746b65bd0a829eba9a553e88c60b18f89d7.asset/AssetData/YuGothic-Medium.otf', '/System/Library/Fonts/Supplemental/Baghdad.ttc', '/System/Library/Fonts/ヒラギノ角ゴシック W4.ttc', '/System/Library/AssetsV2/com_apple_MobileAsset_Font6/36440aa0be75aaa7a1fab8c5c42930b7d407dc48.asset/AssetData/Hei.ttf', '/System/Library/Fonts/Supplemental/Futura.ttc', '/System/Library/Fonts/Supplemental/NotoSansGothic-Regular.ttf', '/System/Library/AssetsV2/com_apple_MobileAsset_Font6/1850ab41a5b0bf46ccad786c6c733feb84da7a4d.asset/AssetData/Mukta-Devanagari.ttc', '/System/Library/Fonts/Supplemental/NotoSansTagalog-Regular.ttf', '/System/Library/AssetsV2/com_apple_MobileAsset_Font6/16410f7b0c96b4bb08d952fa04d67cd65a42f1b7.asset/AssetData/YuGothic-Bold.otf', '/System/Library/Fonts/Supplemental/Ayuthaya.ttf', '/System/Library/Fonts/Supplemental/Galvji.ttc', '/System/Library/Fonts/HelveticaNeueDeskInterface.ttc', '/System/Library/Fonts/Supplemental/Brush Script.ttf', '/System/Library/Fonts/SFCompactRounded.ttf', '/System/Library/Fonts/Supplemental/Marion.ttc', '/System/Library/Fonts/Supplemental/Diwan Kufi.ttc', '/System/Library/Fonts/Supplemental/Webdings.ttf', '/System/Library/AssetsV2/com_apple_MobileAsset_Font6/24d44b218f90c4d67c550be3aeccd44c28a48f80.asset/AssetData/TiroKannada.ttc', '/System/Library/Fonts/Supplemental/Luminari.ttf', '/System/Library/Fonts/ArialHB.ttc', '/System/Library/Fonts/Supplemental/NotoSansBrahmi-Regular.ttf', '/System/Library/Fonts/Palatino.ttc', '/System/Library/AssetsV2/com_apple_MobileAsset_Font6/0fbba826425b521aefe22bf5f809478546c8fefa.asset/AssetData/BalooDaBangla-Regular.ttf', '/System/Library/Fonts/Supplemental/STIXGeneralItalic.otf', '/System/Library/AssetsV2/com_apple_MobileAsset_Font6/8a0c0a968b8f2ea59ef70bf4ae52f818630ed614.asset/AssetData/HeadlineA.ttf', '/System/Library/Fonts/Supplemental/Sathu.ttf', '/System/Library/Fonts/Supplemental/NotoSansEgyptianHieroglyphs-Regular.ttf', '/System/Library/Fonts/Supplemental/NotoSansNKo-Regular.ttf', '/System/Library/Fonts/NotoNastaliq.ttc', '/System/Library/Fonts/Supplemental/Arial Narrow Bold.ttf', '/Users/saeran/Library/Fonts/NanumBarunGothicUltraLight.ttf', '/System/Library/Fonts/Supplemental/NotoSansMeeteiMayek-Regular.ttf', '/System/Library/Fonts/Supplemental/Bangla MN.ttc', '/System/Library/Fonts/Supplemental/Didot.ttc', '/System/Library/Fonts/ヒラギノ丸ゴ ProN W4.ttc', '/System/Library/Fonts/Supplemental/NotoSansOlChiki-Regular.ttf', '/System/Library/AssetsV2/com_apple_MobileAsset_Font6/7128b18f28ee79eb868c661758e7d374b98f72db.asset/AssetData/Maku-Devanagari.ttc', '/System/Library/AssetsV2/com_apple_MobileAsset_Font6/f7be88d8810a72a553ddc7ba14c15aff10ffc581.asset/AssetData/Osaka.ttf', '/System/Library/Fonts/ヒラギノ角ゴシック W7.ttc', '/System/Library/Fonts/Supplemental/NotoSansOldItalic-Regular.ttf', '/System/Library/Fonts/Supplemental/Baskerville.ttc', '/System/Library/Fonts/Supplemental/KufiStandardGK.ttc', '/System/Library/Fonts/Supplemental/Devanagari Sangam MN.ttc', '/System/Library/Fonts/Supplemental/NotoSansCypriot-Regular.ttf', '/System/Library/Fonts/Supplemental/AppleMyungjo.ttf', '/System/Library/AssetsV2/com_apple_MobileAsset_Font6/ec88728883c8296c7eb583ce64501d3242b25c2f.asset/AssetData/LingWaiTC-Medium.otf', '/System/Library/AssetsV2/com_apple_MobileAsset_Font6/d980a16edc19d62d8e2af1c1c99d786f6e01bbf9.asset/AssetData/Hannotate.ttc', '/Users/saeran/Library/Fonts/NanumBarunGothic.ttf', '/System/Library/Fonts/Supplemental/Mishafi Gold.ttf', '/System/Library/Fonts/Supplemental/Iowan Old Style.ttc', '/System/Library/Fonts/Supplemental/NotoSansBatak-Regular.ttf', '/System/Library/Fonts/Supplemental/NotoSansPhoenician-Regular.ttf', '/System/Library/AssetsV2/com_apple_MobileAsset_Font6/d37ed4f492e87221b72d5c3aa5d4ff76e6d37c87.asset/AssetData/ToppanBunkyuMinchoPr6N-Regular.otf', '/System/Library/Fonts/Supplemental/Wingdings.ttf', '/Users/saeran/Library/Fonts/NanumBarunGothicBold.ttf', '/Users/saeran/Library/Fonts/NanumSquareRoundR.ttf', '/System/Library/Fonts/Supplemental/BigCaslon.ttf']\n",
      "nanum_font number: 23\n",
      "zsh:1: command not found: apt-get\r\n"
     ]
    },
    {
     "name": "stdout",
     "output_type": "stream",
     "text": [
      "zsh:1: no matches found: fonts-nanum*\n",
      "HeadLineA\n"
     ]
    }
   ],
   "source": [
    "# 그래프를 이쁘게 그리기 위한 코드입니다. 한글 글꼴을 추가합니다.\n",
    "\n",
    "%matplotlib inline  \n",
    "\n",
    "import matplotlib as mpl  # 기본 설정 만지는 용도\n",
    "import matplotlib.pyplot as plt  # 그래프 그리는 용도\n",
    "import matplotlib.font_manager as fm  # 폰트 관련 용도\n",
    "import seaborn as sns\n",
    "mpl.rcParams['axes.unicode_minus'] = False\n",
    "\n",
    "sys_font=fm.findSystemFonts()\n",
    "print(f\"sys_font number: {len(sys_font)}\")\n",
    "print(sys_font)\n",
    "\n",
    "nanum_font = [f for f in sys_font if 'Nanum' in f]\n",
    "print(f\"nanum_font number: {len(nanum_font)}\")\n",
    "\n",
    "!apt-get update -qq\n",
    "!apt-get install fonts-nanum* -qq\n",
    "\n",
    "path = '/System/Library/AssetsV2/com_apple_MobileAsset_Font6/8a0c0a968b8f2ea59ef70bf4ae52f818630ed614.asset/AssetData/HeadlineA.ttf'  # 설치된 나눔글꼴중 원하는 녀석의 전체 경로를 가져옵니다.\n",
    "font_name = fm.FontProperties(fname=path, size=10).get_name()\n",
    "print(font_name)\n",
    "plt.rc('font', family=font_name)"
   ]
  },
  {
   "cell_type": "code",
   "execution_count": 191,
   "metadata": {},
   "outputs": [
    {
     "name": "stdout",
     "output_type": "stream",
     "text": [
      "Python 3.8.5\n",
      "설정 폰트 글꼴: ['HeadLineA'], 설정 폰트 사이즈: 10.0\n"
     ]
    }
   ],
   "source": [
    "# 현재 설정되어 있는 폰트 사이즈와 글꼴을 알아보자\n",
    "!python --version\n",
    "def current_font():\n",
    "  print(f\"설정 폰트 글꼴: {plt.rcParams['font.family']}, 설정 폰트 사이즈: {plt.rcParams['font.size']}\")  # 파이썬 3.6 이상 사용가능하다\n",
    "        \n",
    "current_font()"
   ]
  },
  {
   "cell_type": "code",
   "execution_count": 192,
   "metadata": {},
   "outputs": [],
   "source": [
    "# 여전히 글꼴이 보이지 않는 분들은, 런타임 -> \"다시 시작 및 모두 실행\" 을 눌러주세요!\n",
    "fm._rebuild()"
   ]
  },
  {
   "cell_type": "code",
   "execution_count": 193,
   "metadata": {},
   "outputs": [
    {
     "data": {
      "image/png": "[encoded data removed]",
      "text/plain": [
       "<Figure size 576x432 with 1 Axes>"
      ]
     },
     "metadata": {
      "needs_background": "dark"
     },
     "output_type": "display_data"
    }
   ],
   "source": [
    "top = 10\n",
    "plt.figure(figsize=(8,6))\n",
    "\n",
    "COLOR = 'white'\n",
    "mpl.rcParams['text.color'] = COLOR\n",
    "mpl.rcParams['axes.labelcolor'] = COLOR\n",
    "mpl.rcParams['xtick.color'] = COLOR\n",
    "mpl.rcParams['ytick.color'] = COLOR\n",
    "plt.title(f\"상위 %d 빈도 분석 히스토그램\" % (top) , fontsize=20)\n",
    "plt.xlabel(\"Samples\")\n",
    "plt.ylabel(\"Counts\")\n",
    "sns.barplot(x=\"sample\", y=\"count\", data=test, palette=\"rainbow\")\n",
    "plt.show()"
   ]
  },
  {
   "cell_type": "code",
   "execution_count": 194,
   "metadata": {},
   "outputs": [
    {
     "name": "stdout",
     "output_type": "stream",
     "text": [
      "Requirement already satisfied: wordcloud in /Users/saeran/opt/anaconda3/lib/python3.8/site-packages (1.8.1)\r\n",
      "Requirement already satisfied: matplotlib in /Users/saeran/opt/anaconda3/lib/python3.8/site-packages (from wordcloud) (3.3.2)\r\n",
      "Requirement already satisfied: numpy>=1.6.1 in /Users/saeran/opt/anaconda3/lib/python3.8/site-packages (from wordcloud) (1.19.2)\r\n",
      "Requirement already satisfied: pillow in /Users/saeran/opt/anaconda3/lib/python3.8/site-packages (from wordcloud) (8.0.1)\r\n",
      "Requirement already satisfied: kiwisolver>=1.0.1 in /Users/saeran/opt/anaconda3/lib/python3.8/site-packages (from matplotlib->wordcloud) (1.3.0)\r\n",
      "Requirement already satisfied: cycler>=0.10 in /Users/saeran/opt/anaconda3/lib/python3.8/site-packages (from matplotlib->wordcloud) (0.10.0)\r\n",
      "Requirement already satisfied: python-dateutil>=2.1 in /Users/saeran/opt/anaconda3/lib/python3.8/site-packages (from matplotlib->wordcloud) (2.8.1)\r\n",
      "Requirement already satisfied: pyparsing!=2.0.4,!=2.1.2,!=2.1.6,>=2.0.3 in /Users/saeran/opt/anaconda3/lib/python3.8/site-packages (from matplotlib->wordcloud) (2.4.7)\r\n",
      "Requirement already satisfied: certifi>=2020.06.20 in /Users/saeran/opt/anaconda3/lib/python3.8/site-packages (from matplotlib->wordcloud) (2020.6.20)\r\n",
      "Requirement already satisfied: six in /Users/saeran/opt/anaconda3/lib/python3.8/site-packages (from cycler>=0.10->matplotlib->wordcloud) (1.15.0)\r\n"
     ]
    }
   ],
   "source": [
    "!pip install wordcloud"
   ]
  },
  {
   "cell_type": "code",
   "execution_count": 195,
   "metadata": {},
   "outputs": [
    {
     "data": {
      "image/png": "[encoded data removed]",
      "text/plain": [
       "<Figure size 432x432 with 1 Axes>"
      ]
     },
     "metadata": {
      "needs_background": "dark"
     },
     "output_type": "display_data"
    }
   ],
   "source": [
    "from wordcloud import WordCloud\n",
    "\n",
    "wordcloud = WordCloud(font_path = path,\n",
    "                      relative_scaling = 0.2,\n",
    "                      #stopwords=STOPWORDS,\n",
    "                      background_color='white',\n",
    "                      colormap=\"summer\"\n",
    "                      ).generate_from_frequencies(wordInfo)\n",
    "plt.figure(figsize=(6,6))\n",
    "plt.imshow(wordcloud)\n",
    "plt.axis(\"off\")\n",
    "plt.show()"
   ]
  },
  {
   "cell_type": "code",
   "execution_count": null,
   "metadata": {},
   "outputs": [],
   "source": []
  }
 ],
 "metadata": {
  "kernelspec": {
   "display_name": "Python 3",
   "language": "python",
   "name": "python3"
  },
  "language_info": {
   "codemirror_mode": {
    "name": "ipython",
    "version": 3
   },
   "file_extension": ".py",
   "mimetype": "text/x-python",
   "name": "python",
   "nbconvert_exporter": "python",
   "pygments_lexer": "ipython3",
   "version": "3.8.5"
  }
 },
 "nbformat": 4,
 "nbformat_minor": 4
}
